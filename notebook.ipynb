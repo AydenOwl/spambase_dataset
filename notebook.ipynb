{
  "nbformat": 4,
  "nbformat_minor": 0,
  "metadata": {
    "colab": {
      "name": "spambase_GC.ipynb",
      "provenance": [],
      "collapsed_sections": [
        "aRvDnKGJ-4Ba",
        "G3CYULvd3-xB",
        "FQcb1kocAiy7",
        "kfAQJLkIv6UH"
      ],
      "toc_visible": true
    },
    "kernelspec": {
      "name": "python3",
      "display_name": "Python 3"
    }
  },
  "cells": [
    {
      "cell_type": "markdown",
      "metadata": {
        "id": "0DqVBjxJ8flR"
      },
      "source": [
        "# INFORMATIONS\n",
        "\n",
        "Ce notebook étudie le dataset nommé \"spambase\", trouvable au lien suivant: https://archive.ics.uci.edu/ml/datasets/Spambase.\n",
        "\n",
        "        The \"spam\" concept is diverse: advertisements for products/web\n",
        "        sites, make money fast schemes, chain letters, pornography...\n",
        "\tOur collection of spam e-mails came from our postmaster and \n",
        "\tindividuals who had filed spam.  Our collection of non-spam \n",
        "\te-mails came from filed work and personal e-mails, and hence\n",
        "\tthe word 'george' and the area code '650' are indicators of \n",
        "\tnon-spam.  These are useful when constructing a personalized \n",
        "\tspam filter.  One would either have to blind such non-spam \n",
        "\tindicators or get a very wide collection of non-spam to \n",
        "\tgenerate a general purpose spam filter."
      ]
    },
    {
      "cell_type": "code",
      "metadata": {
        "id": "rFfke_c88dHS"
      },
      "source": [
        "# IMPORTS\n",
        "import csv\n",
        "import pandas as pd\n",
        "import matplotlib.pyplot as plt\n",
        "import seaborn as sns\n",
        "import numpy as np"
      ],
      "execution_count": 3,
      "outputs": []
    },
    {
      "cell_type": "markdown",
      "metadata": {
        "id": "fAmON2-BJq7h"
      },
      "source": [
        "# Import du jeu de données"
      ]
    },
    {
      "cell_type": "markdown",
      "metadata": {
        "id": "oiZ_s7EI-yD-"
      },
      "source": [
        "## Définition du nom des colonnes\r\n",
        "Hormi la colonne \"is_spam\", nous avons trois différents types de nom de colonne:\r\n",
        "- word_freq_[mot]\r\n",
        "- char_freq_[caractère]\r\n",
        "- capital_run_length_[type]\r\n",
        "\r\n",
        "On va raccourcir ces noms, afin que cela soit plus lisible, ce qui nous donnera:\r\n",
        "- wf_[mot]\r\n",
        "- cf_[caractère]\r\n",
        "- cap_rl_[type]"
      ]
    },
    {
      "cell_type": "code",
      "metadata": {
        "id": "ycbwvbkC_ZsA"
      },
      "source": [
        "# Définition des noms de colonnes à partir du fichier spambase.names\n",
        "columnsName = [ \"word_freq_make\",\n",
        "\"word_freq_address\",\n",
        "\"word_freq_all\",\n",
        "\"word_freq_3d\",\n",
        "\"word_freq_our\",\n",
        "\"word_freq_over\",\n",
        "\"word_freq_remove\",\n",
        "\"word_freq_internet\",\n",
        "\"word_freq_order\",\n",
        "\"word_freq_mail\",\n",
        "\"word_freq_receive\",\n",
        "\"word_freq_will\",\n",
        "\"word_freq_people\",\n",
        "\"word_freq_report\",\n",
        "\"word_freq_addresses\",\n",
        "\"word_freq_free\",\n",
        "\"word_freq_business\",\n",
        "\"word_freq_email\",\n",
        "\"word_freq_you\",\n",
        "\"word_freq_credit\",\n",
        "\"word_freq_your\",\n",
        "\"word_freq_font\",\n",
        "\"word_freq_000\",\n",
        "\"word_freq_money\",\n",
        "\"word_freq_hp\",\n",
        "\"word_freq_hpl\",\n",
        "\"word_freq_george\",\n",
        "\"word_freq_650\",\n",
        "\"word_freq_lab\",\n",
        "\"word_freq_labs\",\n",
        "\"word_freq_telnet\",\n",
        "\"word_freq_857\",\n",
        "\"word_freq_data\",\n",
        "\"word_freq_415\",\n",
        "\"word_freq_85\",\n",
        "\"word_freq_technology\",\n",
        "\"word_freq_1999\",\n",
        "\"word_freq_parts\",\n",
        "\"word_freq_pm\",\n",
        "\"word_freq_direct\",\n",
        "\"word_freq_cs\",\n",
        "\"word_freq_meeting\",\n",
        "\"word_freq_original\",\n",
        "\"word_freq_project\",\n",
        "\"word_freq_re\",\n",
        "\"word_freq_edu\",\n",
        "\"word_freq_table\",\n",
        "\"word_freq_conference\",\n",
        "\"char_freq_;\",\n",
        "\"char_freq_(\",\n",
        "\"char_freq_[\",\n",
        "\"char_freq_!\",\n",
        "\"char_freq_$\",\n",
        "\"char_freq_#\",\n",
        "\"capital_run_length_average\",\n",
        "\"capital_run_length_longest\",\n",
        "\"capital_run_length_total\",\n",
        "\"is_spam\" ]\n",
        "\n",
        "columnsName = [ \"wf_make\",\n",
        "\"wf_address\",\n",
        "\"wf_all\",\n",
        "\"wf_3d\",\n",
        "\"wf_our\",\n",
        "\"wf_over\",\n",
        "\"wf_remove\",\n",
        "\"wf_internet\",\n",
        "\"wf_order\",\n",
        "\"wf_mail\",\n",
        "\"wf_receive\",\n",
        "\"wf_will\",\n",
        "\"wf_people\",\n",
        "\"wf_report\",\n",
        "\"wf_addresses\",\n",
        "\"wf_free\",\n",
        "\"wf_business\",\n",
        "\"wf_email\",\n",
        "\"wf_you\",\n",
        "\"wf_credit\",\n",
        "\"wf_your\",\n",
        "\"wf_font\",\n",
        "\"wf_000\",\n",
        "\"wf_money\",\n",
        "\"wf_hp\",\n",
        "\"wf_hpl\",\n",
        "\"wf_george\",\n",
        "\"wf_650\",\n",
        "\"wf_lab\",\n",
        "\"wf_labs\",\n",
        "\"wf_telnet\",\n",
        "\"wf_857\",\n",
        "\"wf_data\",\n",
        "\"wf_415\",\n",
        "\"wf_85\",\n",
        "\"wf_technology\",\n",
        "\"wf_1999\",\n",
        "\"wf_parts\",\n",
        "\"wf_pm\",\n",
        "\"wf_direct\",\n",
        "\"wf_cs\",\n",
        "\"wf_meeting\",\n",
        "\"wf_original\",\n",
        "\"wf_project\",\n",
        "\"wf_re\",\n",
        "\"wf_edu\",\n",
        "\"wf_table\",\n",
        "\"wf_conference\",\n",
        "\"cf_;\",\n",
        "\"cf_(\",\n",
        "\"cf_[\",\n",
        "\"cf_!\",\n",
        "\"cf_$\",\n",
        "\"cf_#\",\n",
        "\"cap_rl_average\",\n",
        "\"cap_rl_longest\",\n",
        "\"cap_rl_total\",\n",
        "\"is_spam\" ]"
      ],
      "execution_count": 4,
      "outputs": []
    },
    {
      "cell_type": "markdown",
      "metadata": {
        "id": "aRvDnKGJ-4Ba"
      },
      "source": [
        "## Import des données"
      ]
    },
    {
      "cell_type": "code",
      "metadata": {
        "colab": {
          "base_uri": "https://localhost:8080/",
          "height": 439
        },
        "id": "lwCWcuZ0ABLp",
        "outputId": "5d6f234d-865b-4e0c-f264-da454a12346b"
      },
      "source": [
        "# Lecture du fichier de données \n",
        "dfData = pd.read_csv('https://archive.ics.uci.edu/ml/machine-learning-databases/spambase/spambase.data', names=columnsName)\n",
        "# Affichage\n",
        "dfData"
      ],
      "execution_count": 5,
      "outputs": [
        {
          "output_type": "execute_result",
          "data": {
            "text/html": [
              "<div>\n",
              "<style scoped>\n",
              "    .dataframe tbody tr th:only-of-type {\n",
              "        vertical-align: middle;\n",
              "    }\n",
              "\n",
              "    .dataframe tbody tr th {\n",
              "        vertical-align: top;\n",
              "    }\n",
              "\n",
              "    .dataframe thead th {\n",
              "        text-align: right;\n",
              "    }\n",
              "</style>\n",
              "<table border=\"1\" class=\"dataframe\">\n",
              "  <thead>\n",
              "    <tr style=\"text-align: right;\">\n",
              "      <th></th>\n",
              "      <th>wf_make</th>\n",
              "      <th>wf_address</th>\n",
              "      <th>wf_all</th>\n",
              "      <th>wf_3d</th>\n",
              "      <th>wf_our</th>\n",
              "      <th>wf_over</th>\n",
              "      <th>wf_remove</th>\n",
              "      <th>wf_internet</th>\n",
              "      <th>wf_order</th>\n",
              "      <th>wf_mail</th>\n",
              "      <th>wf_receive</th>\n",
              "      <th>wf_will</th>\n",
              "      <th>wf_people</th>\n",
              "      <th>wf_report</th>\n",
              "      <th>wf_addresses</th>\n",
              "      <th>wf_free</th>\n",
              "      <th>wf_business</th>\n",
              "      <th>wf_email</th>\n",
              "      <th>wf_you</th>\n",
              "      <th>wf_credit</th>\n",
              "      <th>wf_your</th>\n",
              "      <th>wf_font</th>\n",
              "      <th>wf_000</th>\n",
              "      <th>wf_money</th>\n",
              "      <th>wf_hp</th>\n",
              "      <th>wf_hpl</th>\n",
              "      <th>wf_george</th>\n",
              "      <th>wf_650</th>\n",
              "      <th>wf_lab</th>\n",
              "      <th>wf_labs</th>\n",
              "      <th>wf_telnet</th>\n",
              "      <th>wf_857</th>\n",
              "      <th>wf_data</th>\n",
              "      <th>wf_415</th>\n",
              "      <th>wf_85</th>\n",
              "      <th>wf_technology</th>\n",
              "      <th>wf_1999</th>\n",
              "      <th>wf_parts</th>\n",
              "      <th>wf_pm</th>\n",
              "      <th>wf_direct</th>\n",
              "      <th>wf_cs</th>\n",
              "      <th>wf_meeting</th>\n",
              "      <th>wf_original</th>\n",
              "      <th>wf_project</th>\n",
              "      <th>wf_re</th>\n",
              "      <th>wf_edu</th>\n",
              "      <th>wf_table</th>\n",
              "      <th>wf_conference</th>\n",
              "      <th>cf_;</th>\n",
              "      <th>cf_(</th>\n",
              "      <th>cf_[</th>\n",
              "      <th>cf_!</th>\n",
              "      <th>cf_$</th>\n",
              "      <th>cf_#</th>\n",
              "      <th>cap_rl_average</th>\n",
              "      <th>cap_rl_longest</th>\n",
              "      <th>cap_rl_total</th>\n",
              "      <th>is_spam</th>\n",
              "    </tr>\n",
              "  </thead>\n",
              "  <tbody>\n",
              "    <tr>\n",
              "      <th>0</th>\n",
              "      <td>0.00</td>\n",
              "      <td>0.64</td>\n",
              "      <td>0.64</td>\n",
              "      <td>0.0</td>\n",
              "      <td>0.32</td>\n",
              "      <td>0.00</td>\n",
              "      <td>0.00</td>\n",
              "      <td>0.00</td>\n",
              "      <td>0.00</td>\n",
              "      <td>0.00</td>\n",
              "      <td>0.00</td>\n",
              "      <td>0.64</td>\n",
              "      <td>0.00</td>\n",
              "      <td>0.00</td>\n",
              "      <td>0.00</td>\n",
              "      <td>0.32</td>\n",
              "      <td>0.00</td>\n",
              "      <td>1.29</td>\n",
              "      <td>1.93</td>\n",
              "      <td>0.00</td>\n",
              "      <td>0.96</td>\n",
              "      <td>0.0</td>\n",
              "      <td>0.00</td>\n",
              "      <td>0.00</td>\n",
              "      <td>0.0</td>\n",
              "      <td>0.0</td>\n",
              "      <td>0.0</td>\n",
              "      <td>0.0</td>\n",
              "      <td>0.0</td>\n",
              "      <td>0.0</td>\n",
              "      <td>0.0</td>\n",
              "      <td>0.0</td>\n",
              "      <td>0.0</td>\n",
              "      <td>0.0</td>\n",
              "      <td>0.0</td>\n",
              "      <td>0.0</td>\n",
              "      <td>0.00</td>\n",
              "      <td>0.0</td>\n",
              "      <td>0.0</td>\n",
              "      <td>0.00</td>\n",
              "      <td>0.0</td>\n",
              "      <td>0.0</td>\n",
              "      <td>0.00</td>\n",
              "      <td>0.00</td>\n",
              "      <td>0.00</td>\n",
              "      <td>0.00</td>\n",
              "      <td>0.0</td>\n",
              "      <td>0.0</td>\n",
              "      <td>0.000</td>\n",
              "      <td>0.000</td>\n",
              "      <td>0.0</td>\n",
              "      <td>0.778</td>\n",
              "      <td>0.000</td>\n",
              "      <td>0.000</td>\n",
              "      <td>3.756</td>\n",
              "      <td>61</td>\n",
              "      <td>278</td>\n",
              "      <td>1</td>\n",
              "    </tr>\n",
              "    <tr>\n",
              "      <th>1</th>\n",
              "      <td>0.21</td>\n",
              "      <td>0.28</td>\n",
              "      <td>0.50</td>\n",
              "      <td>0.0</td>\n",
              "      <td>0.14</td>\n",
              "      <td>0.28</td>\n",
              "      <td>0.21</td>\n",
              "      <td>0.07</td>\n",
              "      <td>0.00</td>\n",
              "      <td>0.94</td>\n",
              "      <td>0.21</td>\n",
              "      <td>0.79</td>\n",
              "      <td>0.65</td>\n",
              "      <td>0.21</td>\n",
              "      <td>0.14</td>\n",
              "      <td>0.14</td>\n",
              "      <td>0.07</td>\n",
              "      <td>0.28</td>\n",
              "      <td>3.47</td>\n",
              "      <td>0.00</td>\n",
              "      <td>1.59</td>\n",
              "      <td>0.0</td>\n",
              "      <td>0.43</td>\n",
              "      <td>0.43</td>\n",
              "      <td>0.0</td>\n",
              "      <td>0.0</td>\n",
              "      <td>0.0</td>\n",
              "      <td>0.0</td>\n",
              "      <td>0.0</td>\n",
              "      <td>0.0</td>\n",
              "      <td>0.0</td>\n",
              "      <td>0.0</td>\n",
              "      <td>0.0</td>\n",
              "      <td>0.0</td>\n",
              "      <td>0.0</td>\n",
              "      <td>0.0</td>\n",
              "      <td>0.07</td>\n",
              "      <td>0.0</td>\n",
              "      <td>0.0</td>\n",
              "      <td>0.00</td>\n",
              "      <td>0.0</td>\n",
              "      <td>0.0</td>\n",
              "      <td>0.00</td>\n",
              "      <td>0.00</td>\n",
              "      <td>0.00</td>\n",
              "      <td>0.00</td>\n",
              "      <td>0.0</td>\n",
              "      <td>0.0</td>\n",
              "      <td>0.000</td>\n",
              "      <td>0.132</td>\n",
              "      <td>0.0</td>\n",
              "      <td>0.372</td>\n",
              "      <td>0.180</td>\n",
              "      <td>0.048</td>\n",
              "      <td>5.114</td>\n",
              "      <td>101</td>\n",
              "      <td>1028</td>\n",
              "      <td>1</td>\n",
              "    </tr>\n",
              "    <tr>\n",
              "      <th>2</th>\n",
              "      <td>0.06</td>\n",
              "      <td>0.00</td>\n",
              "      <td>0.71</td>\n",
              "      <td>0.0</td>\n",
              "      <td>1.23</td>\n",
              "      <td>0.19</td>\n",
              "      <td>0.19</td>\n",
              "      <td>0.12</td>\n",
              "      <td>0.64</td>\n",
              "      <td>0.25</td>\n",
              "      <td>0.38</td>\n",
              "      <td>0.45</td>\n",
              "      <td>0.12</td>\n",
              "      <td>0.00</td>\n",
              "      <td>1.75</td>\n",
              "      <td>0.06</td>\n",
              "      <td>0.06</td>\n",
              "      <td>1.03</td>\n",
              "      <td>1.36</td>\n",
              "      <td>0.32</td>\n",
              "      <td>0.51</td>\n",
              "      <td>0.0</td>\n",
              "      <td>1.16</td>\n",
              "      <td>0.06</td>\n",
              "      <td>0.0</td>\n",
              "      <td>0.0</td>\n",
              "      <td>0.0</td>\n",
              "      <td>0.0</td>\n",
              "      <td>0.0</td>\n",
              "      <td>0.0</td>\n",
              "      <td>0.0</td>\n",
              "      <td>0.0</td>\n",
              "      <td>0.0</td>\n",
              "      <td>0.0</td>\n",
              "      <td>0.0</td>\n",
              "      <td>0.0</td>\n",
              "      <td>0.00</td>\n",
              "      <td>0.0</td>\n",
              "      <td>0.0</td>\n",
              "      <td>0.06</td>\n",
              "      <td>0.0</td>\n",
              "      <td>0.0</td>\n",
              "      <td>0.12</td>\n",
              "      <td>0.00</td>\n",
              "      <td>0.06</td>\n",
              "      <td>0.06</td>\n",
              "      <td>0.0</td>\n",
              "      <td>0.0</td>\n",
              "      <td>0.010</td>\n",
              "      <td>0.143</td>\n",
              "      <td>0.0</td>\n",
              "      <td>0.276</td>\n",
              "      <td>0.184</td>\n",
              "      <td>0.010</td>\n",
              "      <td>9.821</td>\n",
              "      <td>485</td>\n",
              "      <td>2259</td>\n",
              "      <td>1</td>\n",
              "    </tr>\n",
              "    <tr>\n",
              "      <th>3</th>\n",
              "      <td>0.00</td>\n",
              "      <td>0.00</td>\n",
              "      <td>0.00</td>\n",
              "      <td>0.0</td>\n",
              "      <td>0.63</td>\n",
              "      <td>0.00</td>\n",
              "      <td>0.31</td>\n",
              "      <td>0.63</td>\n",
              "      <td>0.31</td>\n",
              "      <td>0.63</td>\n",
              "      <td>0.31</td>\n",
              "      <td>0.31</td>\n",
              "      <td>0.31</td>\n",
              "      <td>0.00</td>\n",
              "      <td>0.00</td>\n",
              "      <td>0.31</td>\n",
              "      <td>0.00</td>\n",
              "      <td>0.00</td>\n",
              "      <td>3.18</td>\n",
              "      <td>0.00</td>\n",
              "      <td>0.31</td>\n",
              "      <td>0.0</td>\n",
              "      <td>0.00</td>\n",
              "      <td>0.00</td>\n",
              "      <td>0.0</td>\n",
              "      <td>0.0</td>\n",
              "      <td>0.0</td>\n",
              "      <td>0.0</td>\n",
              "      <td>0.0</td>\n",
              "      <td>0.0</td>\n",
              "      <td>0.0</td>\n",
              "      <td>0.0</td>\n",
              "      <td>0.0</td>\n",
              "      <td>0.0</td>\n",
              "      <td>0.0</td>\n",
              "      <td>0.0</td>\n",
              "      <td>0.00</td>\n",
              "      <td>0.0</td>\n",
              "      <td>0.0</td>\n",
              "      <td>0.00</td>\n",
              "      <td>0.0</td>\n",
              "      <td>0.0</td>\n",
              "      <td>0.00</td>\n",
              "      <td>0.00</td>\n",
              "      <td>0.00</td>\n",
              "      <td>0.00</td>\n",
              "      <td>0.0</td>\n",
              "      <td>0.0</td>\n",
              "      <td>0.000</td>\n",
              "      <td>0.137</td>\n",
              "      <td>0.0</td>\n",
              "      <td>0.137</td>\n",
              "      <td>0.000</td>\n",
              "      <td>0.000</td>\n",
              "      <td>3.537</td>\n",
              "      <td>40</td>\n",
              "      <td>191</td>\n",
              "      <td>1</td>\n",
              "    </tr>\n",
              "    <tr>\n",
              "      <th>4</th>\n",
              "      <td>0.00</td>\n",
              "      <td>0.00</td>\n",
              "      <td>0.00</td>\n",
              "      <td>0.0</td>\n",
              "      <td>0.63</td>\n",
              "      <td>0.00</td>\n",
              "      <td>0.31</td>\n",
              "      <td>0.63</td>\n",
              "      <td>0.31</td>\n",
              "      <td>0.63</td>\n",
              "      <td>0.31</td>\n",
              "      <td>0.31</td>\n",
              "      <td>0.31</td>\n",
              "      <td>0.00</td>\n",
              "      <td>0.00</td>\n",
              "      <td>0.31</td>\n",
              "      <td>0.00</td>\n",
              "      <td>0.00</td>\n",
              "      <td>3.18</td>\n",
              "      <td>0.00</td>\n",
              "      <td>0.31</td>\n",
              "      <td>0.0</td>\n",
              "      <td>0.00</td>\n",
              "      <td>0.00</td>\n",
              "      <td>0.0</td>\n",
              "      <td>0.0</td>\n",
              "      <td>0.0</td>\n",
              "      <td>0.0</td>\n",
              "      <td>0.0</td>\n",
              "      <td>0.0</td>\n",
              "      <td>0.0</td>\n",
              "      <td>0.0</td>\n",
              "      <td>0.0</td>\n",
              "      <td>0.0</td>\n",
              "      <td>0.0</td>\n",
              "      <td>0.0</td>\n",
              "      <td>0.00</td>\n",
              "      <td>0.0</td>\n",
              "      <td>0.0</td>\n",
              "      <td>0.00</td>\n",
              "      <td>0.0</td>\n",
              "      <td>0.0</td>\n",
              "      <td>0.00</td>\n",
              "      <td>0.00</td>\n",
              "      <td>0.00</td>\n",
              "      <td>0.00</td>\n",
              "      <td>0.0</td>\n",
              "      <td>0.0</td>\n",
              "      <td>0.000</td>\n",
              "      <td>0.135</td>\n",
              "      <td>0.0</td>\n",
              "      <td>0.135</td>\n",
              "      <td>0.000</td>\n",
              "      <td>0.000</td>\n",
              "      <td>3.537</td>\n",
              "      <td>40</td>\n",
              "      <td>191</td>\n",
              "      <td>1</td>\n",
              "    </tr>\n",
              "    <tr>\n",
              "      <th>...</th>\n",
              "      <td>...</td>\n",
              "      <td>...</td>\n",
              "      <td>...</td>\n",
              "      <td>...</td>\n",
              "      <td>...</td>\n",
              "      <td>...</td>\n",
              "      <td>...</td>\n",
              "      <td>...</td>\n",
              "      <td>...</td>\n",
              "      <td>...</td>\n",
              "      <td>...</td>\n",
              "      <td>...</td>\n",
              "      <td>...</td>\n",
              "      <td>...</td>\n",
              "      <td>...</td>\n",
              "      <td>...</td>\n",
              "      <td>...</td>\n",
              "      <td>...</td>\n",
              "      <td>...</td>\n",
              "      <td>...</td>\n",
              "      <td>...</td>\n",
              "      <td>...</td>\n",
              "      <td>...</td>\n",
              "      <td>...</td>\n",
              "      <td>...</td>\n",
              "      <td>...</td>\n",
              "      <td>...</td>\n",
              "      <td>...</td>\n",
              "      <td>...</td>\n",
              "      <td>...</td>\n",
              "      <td>...</td>\n",
              "      <td>...</td>\n",
              "      <td>...</td>\n",
              "      <td>...</td>\n",
              "      <td>...</td>\n",
              "      <td>...</td>\n",
              "      <td>...</td>\n",
              "      <td>...</td>\n",
              "      <td>...</td>\n",
              "      <td>...</td>\n",
              "      <td>...</td>\n",
              "      <td>...</td>\n",
              "      <td>...</td>\n",
              "      <td>...</td>\n",
              "      <td>...</td>\n",
              "      <td>...</td>\n",
              "      <td>...</td>\n",
              "      <td>...</td>\n",
              "      <td>...</td>\n",
              "      <td>...</td>\n",
              "      <td>...</td>\n",
              "      <td>...</td>\n",
              "      <td>...</td>\n",
              "      <td>...</td>\n",
              "      <td>...</td>\n",
              "      <td>...</td>\n",
              "      <td>...</td>\n",
              "      <td>...</td>\n",
              "    </tr>\n",
              "    <tr>\n",
              "      <th>4596</th>\n",
              "      <td>0.31</td>\n",
              "      <td>0.00</td>\n",
              "      <td>0.62</td>\n",
              "      <td>0.0</td>\n",
              "      <td>0.00</td>\n",
              "      <td>0.31</td>\n",
              "      <td>0.00</td>\n",
              "      <td>0.00</td>\n",
              "      <td>0.00</td>\n",
              "      <td>0.00</td>\n",
              "      <td>0.00</td>\n",
              "      <td>1.88</td>\n",
              "      <td>0.00</td>\n",
              "      <td>0.00</td>\n",
              "      <td>0.00</td>\n",
              "      <td>0.00</td>\n",
              "      <td>0.00</td>\n",
              "      <td>0.00</td>\n",
              "      <td>0.62</td>\n",
              "      <td>0.00</td>\n",
              "      <td>0.00</td>\n",
              "      <td>0.0</td>\n",
              "      <td>0.00</td>\n",
              "      <td>0.00</td>\n",
              "      <td>0.0</td>\n",
              "      <td>0.0</td>\n",
              "      <td>0.0</td>\n",
              "      <td>0.0</td>\n",
              "      <td>0.0</td>\n",
              "      <td>0.0</td>\n",
              "      <td>0.0</td>\n",
              "      <td>0.0</td>\n",
              "      <td>0.0</td>\n",
              "      <td>0.0</td>\n",
              "      <td>0.0</td>\n",
              "      <td>0.0</td>\n",
              "      <td>0.00</td>\n",
              "      <td>0.0</td>\n",
              "      <td>0.0</td>\n",
              "      <td>0.00</td>\n",
              "      <td>0.0</td>\n",
              "      <td>0.0</td>\n",
              "      <td>0.00</td>\n",
              "      <td>0.31</td>\n",
              "      <td>0.31</td>\n",
              "      <td>0.31</td>\n",
              "      <td>0.0</td>\n",
              "      <td>0.0</td>\n",
              "      <td>0.000</td>\n",
              "      <td>0.232</td>\n",
              "      <td>0.0</td>\n",
              "      <td>0.000</td>\n",
              "      <td>0.000</td>\n",
              "      <td>0.000</td>\n",
              "      <td>1.142</td>\n",
              "      <td>3</td>\n",
              "      <td>88</td>\n",
              "      <td>0</td>\n",
              "    </tr>\n",
              "    <tr>\n",
              "      <th>4597</th>\n",
              "      <td>0.00</td>\n",
              "      <td>0.00</td>\n",
              "      <td>0.00</td>\n",
              "      <td>0.0</td>\n",
              "      <td>0.00</td>\n",
              "      <td>0.00</td>\n",
              "      <td>0.00</td>\n",
              "      <td>0.00</td>\n",
              "      <td>0.00</td>\n",
              "      <td>0.00</td>\n",
              "      <td>0.00</td>\n",
              "      <td>0.00</td>\n",
              "      <td>0.00</td>\n",
              "      <td>0.00</td>\n",
              "      <td>0.00</td>\n",
              "      <td>0.00</td>\n",
              "      <td>0.00</td>\n",
              "      <td>0.00</td>\n",
              "      <td>6.00</td>\n",
              "      <td>0.00</td>\n",
              "      <td>2.00</td>\n",
              "      <td>0.0</td>\n",
              "      <td>0.00</td>\n",
              "      <td>0.00</td>\n",
              "      <td>0.0</td>\n",
              "      <td>0.0</td>\n",
              "      <td>0.0</td>\n",
              "      <td>0.0</td>\n",
              "      <td>0.0</td>\n",
              "      <td>0.0</td>\n",
              "      <td>0.0</td>\n",
              "      <td>0.0</td>\n",
              "      <td>0.0</td>\n",
              "      <td>0.0</td>\n",
              "      <td>0.0</td>\n",
              "      <td>0.0</td>\n",
              "      <td>0.00</td>\n",
              "      <td>0.0</td>\n",
              "      <td>0.0</td>\n",
              "      <td>0.00</td>\n",
              "      <td>0.0</td>\n",
              "      <td>0.0</td>\n",
              "      <td>0.00</td>\n",
              "      <td>0.00</td>\n",
              "      <td>0.00</td>\n",
              "      <td>2.00</td>\n",
              "      <td>0.0</td>\n",
              "      <td>0.0</td>\n",
              "      <td>0.000</td>\n",
              "      <td>0.000</td>\n",
              "      <td>0.0</td>\n",
              "      <td>0.353</td>\n",
              "      <td>0.000</td>\n",
              "      <td>0.000</td>\n",
              "      <td>1.555</td>\n",
              "      <td>4</td>\n",
              "      <td>14</td>\n",
              "      <td>0</td>\n",
              "    </tr>\n",
              "    <tr>\n",
              "      <th>4598</th>\n",
              "      <td>0.30</td>\n",
              "      <td>0.00</td>\n",
              "      <td>0.30</td>\n",
              "      <td>0.0</td>\n",
              "      <td>0.00</td>\n",
              "      <td>0.00</td>\n",
              "      <td>0.00</td>\n",
              "      <td>0.00</td>\n",
              "      <td>0.00</td>\n",
              "      <td>0.00</td>\n",
              "      <td>0.00</td>\n",
              "      <td>1.80</td>\n",
              "      <td>0.30</td>\n",
              "      <td>0.00</td>\n",
              "      <td>0.00</td>\n",
              "      <td>0.00</td>\n",
              "      <td>0.00</td>\n",
              "      <td>0.90</td>\n",
              "      <td>1.50</td>\n",
              "      <td>0.00</td>\n",
              "      <td>0.30</td>\n",
              "      <td>0.0</td>\n",
              "      <td>0.00</td>\n",
              "      <td>0.00</td>\n",
              "      <td>0.0</td>\n",
              "      <td>0.0</td>\n",
              "      <td>0.0</td>\n",
              "      <td>0.0</td>\n",
              "      <td>0.0</td>\n",
              "      <td>0.0</td>\n",
              "      <td>0.0</td>\n",
              "      <td>0.0</td>\n",
              "      <td>0.0</td>\n",
              "      <td>0.0</td>\n",
              "      <td>0.0</td>\n",
              "      <td>0.0</td>\n",
              "      <td>0.00</td>\n",
              "      <td>0.0</td>\n",
              "      <td>0.0</td>\n",
              "      <td>0.00</td>\n",
              "      <td>0.0</td>\n",
              "      <td>0.0</td>\n",
              "      <td>0.00</td>\n",
              "      <td>0.00</td>\n",
              "      <td>0.00</td>\n",
              "      <td>1.20</td>\n",
              "      <td>0.0</td>\n",
              "      <td>0.0</td>\n",
              "      <td>0.102</td>\n",
              "      <td>0.718</td>\n",
              "      <td>0.0</td>\n",
              "      <td>0.000</td>\n",
              "      <td>0.000</td>\n",
              "      <td>0.000</td>\n",
              "      <td>1.404</td>\n",
              "      <td>6</td>\n",
              "      <td>118</td>\n",
              "      <td>0</td>\n",
              "    </tr>\n",
              "    <tr>\n",
              "      <th>4599</th>\n",
              "      <td>0.96</td>\n",
              "      <td>0.00</td>\n",
              "      <td>0.00</td>\n",
              "      <td>0.0</td>\n",
              "      <td>0.32</td>\n",
              "      <td>0.00</td>\n",
              "      <td>0.00</td>\n",
              "      <td>0.00</td>\n",
              "      <td>0.00</td>\n",
              "      <td>0.00</td>\n",
              "      <td>0.00</td>\n",
              "      <td>0.32</td>\n",
              "      <td>0.00</td>\n",
              "      <td>0.00</td>\n",
              "      <td>0.00</td>\n",
              "      <td>0.00</td>\n",
              "      <td>0.00</td>\n",
              "      <td>0.00</td>\n",
              "      <td>1.93</td>\n",
              "      <td>0.00</td>\n",
              "      <td>0.32</td>\n",
              "      <td>0.0</td>\n",
              "      <td>0.00</td>\n",
              "      <td>0.00</td>\n",
              "      <td>0.0</td>\n",
              "      <td>0.0</td>\n",
              "      <td>0.0</td>\n",
              "      <td>0.0</td>\n",
              "      <td>0.0</td>\n",
              "      <td>0.0</td>\n",
              "      <td>0.0</td>\n",
              "      <td>0.0</td>\n",
              "      <td>0.0</td>\n",
              "      <td>0.0</td>\n",
              "      <td>0.0</td>\n",
              "      <td>0.0</td>\n",
              "      <td>0.00</td>\n",
              "      <td>0.0</td>\n",
              "      <td>0.0</td>\n",
              "      <td>0.00</td>\n",
              "      <td>0.0</td>\n",
              "      <td>0.0</td>\n",
              "      <td>0.00</td>\n",
              "      <td>0.32</td>\n",
              "      <td>0.00</td>\n",
              "      <td>0.32</td>\n",
              "      <td>0.0</td>\n",
              "      <td>0.0</td>\n",
              "      <td>0.000</td>\n",
              "      <td>0.057</td>\n",
              "      <td>0.0</td>\n",
              "      <td>0.000</td>\n",
              "      <td>0.000</td>\n",
              "      <td>0.000</td>\n",
              "      <td>1.147</td>\n",
              "      <td>5</td>\n",
              "      <td>78</td>\n",
              "      <td>0</td>\n",
              "    </tr>\n",
              "    <tr>\n",
              "      <th>4600</th>\n",
              "      <td>0.00</td>\n",
              "      <td>0.00</td>\n",
              "      <td>0.65</td>\n",
              "      <td>0.0</td>\n",
              "      <td>0.00</td>\n",
              "      <td>0.00</td>\n",
              "      <td>0.00</td>\n",
              "      <td>0.00</td>\n",
              "      <td>0.00</td>\n",
              "      <td>0.00</td>\n",
              "      <td>0.00</td>\n",
              "      <td>0.00</td>\n",
              "      <td>0.65</td>\n",
              "      <td>0.00</td>\n",
              "      <td>0.00</td>\n",
              "      <td>0.00</td>\n",
              "      <td>0.00</td>\n",
              "      <td>0.00</td>\n",
              "      <td>4.60</td>\n",
              "      <td>0.00</td>\n",
              "      <td>0.65</td>\n",
              "      <td>0.0</td>\n",
              "      <td>0.00</td>\n",
              "      <td>0.00</td>\n",
              "      <td>0.0</td>\n",
              "      <td>0.0</td>\n",
              "      <td>0.0</td>\n",
              "      <td>0.0</td>\n",
              "      <td>0.0</td>\n",
              "      <td>0.0</td>\n",
              "      <td>0.0</td>\n",
              "      <td>0.0</td>\n",
              "      <td>0.0</td>\n",
              "      <td>0.0</td>\n",
              "      <td>0.0</td>\n",
              "      <td>0.0</td>\n",
              "      <td>0.00</td>\n",
              "      <td>0.0</td>\n",
              "      <td>0.0</td>\n",
              "      <td>0.00</td>\n",
              "      <td>0.0</td>\n",
              "      <td>0.0</td>\n",
              "      <td>0.00</td>\n",
              "      <td>0.00</td>\n",
              "      <td>1.97</td>\n",
              "      <td>0.65</td>\n",
              "      <td>0.0</td>\n",
              "      <td>0.0</td>\n",
              "      <td>0.000</td>\n",
              "      <td>0.000</td>\n",
              "      <td>0.0</td>\n",
              "      <td>0.125</td>\n",
              "      <td>0.000</td>\n",
              "      <td>0.000</td>\n",
              "      <td>1.250</td>\n",
              "      <td>5</td>\n",
              "      <td>40</td>\n",
              "      <td>0</td>\n",
              "    </tr>\n",
              "  </tbody>\n",
              "</table>\n",
              "<p>4601 rows × 58 columns</p>\n",
              "</div>"
            ],
            "text/plain": [
              "      wf_make  wf_address  wf_all  ...  cap_rl_longest  cap_rl_total  is_spam\n",
              "0        0.00        0.64    0.64  ...              61           278        1\n",
              "1        0.21        0.28    0.50  ...             101          1028        1\n",
              "2        0.06        0.00    0.71  ...             485          2259        1\n",
              "3        0.00        0.00    0.00  ...              40           191        1\n",
              "4        0.00        0.00    0.00  ...              40           191        1\n",
              "...       ...         ...     ...  ...             ...           ...      ...\n",
              "4596     0.31        0.00    0.62  ...               3            88        0\n",
              "4597     0.00        0.00    0.00  ...               4            14        0\n",
              "4598     0.30        0.00    0.30  ...               6           118        0\n",
              "4599     0.96        0.00    0.00  ...               5            78        0\n",
              "4600     0.00        0.00    0.65  ...               5            40        0\n",
              "\n",
              "[4601 rows x 58 columns]"
            ]
          },
          "metadata": {
            "tags": []
          },
          "execution_count": 5
        }
      ]
    },
    {
      "cell_type": "markdown",
      "metadata": {
        "id": "1gEhcQZoOP3Z"
      },
      "source": [
        "# Vérification et nettoyage des données\r\n",
        "\r\n",
        "Dans la page décrivant les données, il est indiqué que des valeurs seraient manquantes. On va donc vérifier si c'est le cas, et remplacer les données si besoin."
      ]
    },
    {
      "cell_type": "code",
      "metadata": {
        "colab": {
          "base_uri": "https://localhost:8080/"
        },
        "id": "foLxtZoaOMp6",
        "outputId": "619e6259-93aa-4553-f228-48f0198bad95"
      },
      "source": [
        "# Vérification du nombre de données nulles pour chaque colonne\r\n",
        "dfData.isnull().sum()"
      ],
      "execution_count": 6,
      "outputs": [
        {
          "output_type": "execute_result",
          "data": {
            "text/plain": [
              "wf_make           0\n",
              "wf_address        0\n",
              "wf_all            0\n",
              "wf_3d             0\n",
              "wf_our            0\n",
              "wf_over           0\n",
              "wf_remove         0\n",
              "wf_internet       0\n",
              "wf_order          0\n",
              "wf_mail           0\n",
              "wf_receive        0\n",
              "wf_will           0\n",
              "wf_people         0\n",
              "wf_report         0\n",
              "wf_addresses      0\n",
              "wf_free           0\n",
              "wf_business       0\n",
              "wf_email          0\n",
              "wf_you            0\n",
              "wf_credit         0\n",
              "wf_your           0\n",
              "wf_font           0\n",
              "wf_000            0\n",
              "wf_money          0\n",
              "wf_hp             0\n",
              "wf_hpl            0\n",
              "wf_george         0\n",
              "wf_650            0\n",
              "wf_lab            0\n",
              "wf_labs           0\n",
              "wf_telnet         0\n",
              "wf_857            0\n",
              "wf_data           0\n",
              "wf_415            0\n",
              "wf_85             0\n",
              "wf_technology     0\n",
              "wf_1999           0\n",
              "wf_parts          0\n",
              "wf_pm             0\n",
              "wf_direct         0\n",
              "wf_cs             0\n",
              "wf_meeting        0\n",
              "wf_original       0\n",
              "wf_project        0\n",
              "wf_re             0\n",
              "wf_edu            0\n",
              "wf_table          0\n",
              "wf_conference     0\n",
              "cf_;              0\n",
              "cf_(              0\n",
              "cf_[              0\n",
              "cf_!              0\n",
              "cf_$              0\n",
              "cf_#              0\n",
              "cap_rl_average    0\n",
              "cap_rl_longest    0\n",
              "cap_rl_total      0\n",
              "is_spam           0\n",
              "dtype: int64"
            ]
          },
          "metadata": {
            "tags": []
          },
          "execution_count": 6
        }
      ]
    },
    {
      "cell_type": "markdown",
      "metadata": {
        "id": "Aulp1e45P0aB"
      },
      "source": [
        "Il n'y a pourtant pas l'air d'avoir de données manquantes. \r\n",
        "\r\n",
        "Peut-être que l'auteur a assigné certaines valeurs à 0 par défaut, mais nous n'avons aucun moyen de détecter lesquelles sont manquantes et lesquelles valent réellement 0. Si l'on prend le code ci-dessous, on peut voir qu'il y a plus de 3548 lignes n'ayant aucune occurence du mot \"make\", soit plus de 60% du dataset: impossible de les mettre de côté.\r\n",
        "\r\n",
        "Nous continuerons donc l'étude de ce dataset avec toutes les données d'origine, qui semblent être valides. \r\n"
      ]
    },
    {
      "cell_type": "code",
      "metadata": {
        "colab": {
          "base_uri": "https://localhost:8080/"
        },
        "id": "J5l5k_V9QJ-F",
        "outputId": "fc4eca60-5624-476f-f14d-4c46dc72afef"
      },
      "source": [
        "# Nombre de lignes ayant la colonne \"wf_make\" valant 0\r\n",
        "len(dfData[dfData.wf_make == 0])"
      ],
      "execution_count": 7,
      "outputs": [
        {
          "output_type": "execute_result",
          "data": {
            "text/plain": [
              "3548"
            ]
          },
          "metadata": {
            "tags": []
          },
          "execution_count": 7
        }
      ]
    },
    {
      "cell_type": "markdown",
      "metadata": {
        "id": "u2i1ZrWqRYaY"
      },
      "source": [
        "# Analyse générale du jeu de données"
      ]
    },
    {
      "cell_type": "markdown",
      "metadata": {
        "id": "FgJ6m39s_XcV"
      },
      "source": [
        "Nous allons commencer par regarder le nombre de spam et de mails."
      ]
    },
    {
      "cell_type": "code",
      "metadata": {
        "colab": {
          "base_uri": "https://localhost:8080/"
        },
        "id": "3fS9rgdYAdDL",
        "outputId": "2a71e890-524f-4544-ec43-c45f3a132326"
      },
      "source": [
        "# Affichage du nombre de spams et non-spams\n",
        "dfData.groupby('is_spam').size()"
      ],
      "execution_count": 8,
      "outputs": [
        {
          "output_type": "execute_result",
          "data": {
            "text/plain": [
              "is_spam\n",
              "0    2788\n",
              "1    1813\n",
              "dtype: int64"
            ]
          },
          "metadata": {
            "tags": []
          },
          "execution_count": 8
        }
      ]
    },
    {
      "cell_type": "code",
      "metadata": {
        "colab": {
          "base_uri": "https://localhost:8080/",
          "height": 419
        },
        "id": "qxN_bcynK23P",
        "outputId": "aa1c7acc-8d9d-48ff-f0a0-a5eaa67becd5"
      },
      "source": [
        "# Création d'un colonne contenant le label de la classe is_spam\r\n",
        "dfData['is_spam_label'] = 'mail'\r\n",
        "dfData.loc[(dfData.is_spam == 1), 'is_spam_label'] = 'spam'\r\n",
        "\r\n",
        "dfData[['is_spam', 'is_spam_label']]"
      ],
      "execution_count": 9,
      "outputs": [
        {
          "output_type": "execute_result",
          "data": {
            "text/html": [
              "<div>\n",
              "<style scoped>\n",
              "    .dataframe tbody tr th:only-of-type {\n",
              "        vertical-align: middle;\n",
              "    }\n",
              "\n",
              "    .dataframe tbody tr th {\n",
              "        vertical-align: top;\n",
              "    }\n",
              "\n",
              "    .dataframe thead th {\n",
              "        text-align: right;\n",
              "    }\n",
              "</style>\n",
              "<table border=\"1\" class=\"dataframe\">\n",
              "  <thead>\n",
              "    <tr style=\"text-align: right;\">\n",
              "      <th></th>\n",
              "      <th>is_spam</th>\n",
              "      <th>is_spam_label</th>\n",
              "    </tr>\n",
              "  </thead>\n",
              "  <tbody>\n",
              "    <tr>\n",
              "      <th>0</th>\n",
              "      <td>1</td>\n",
              "      <td>spam</td>\n",
              "    </tr>\n",
              "    <tr>\n",
              "      <th>1</th>\n",
              "      <td>1</td>\n",
              "      <td>spam</td>\n",
              "    </tr>\n",
              "    <tr>\n",
              "      <th>2</th>\n",
              "      <td>1</td>\n",
              "      <td>spam</td>\n",
              "    </tr>\n",
              "    <tr>\n",
              "      <th>3</th>\n",
              "      <td>1</td>\n",
              "      <td>spam</td>\n",
              "    </tr>\n",
              "    <tr>\n",
              "      <th>4</th>\n",
              "      <td>1</td>\n",
              "      <td>spam</td>\n",
              "    </tr>\n",
              "    <tr>\n",
              "      <th>...</th>\n",
              "      <td>...</td>\n",
              "      <td>...</td>\n",
              "    </tr>\n",
              "    <tr>\n",
              "      <th>4596</th>\n",
              "      <td>0</td>\n",
              "      <td>mail</td>\n",
              "    </tr>\n",
              "    <tr>\n",
              "      <th>4597</th>\n",
              "      <td>0</td>\n",
              "      <td>mail</td>\n",
              "    </tr>\n",
              "    <tr>\n",
              "      <th>4598</th>\n",
              "      <td>0</td>\n",
              "      <td>mail</td>\n",
              "    </tr>\n",
              "    <tr>\n",
              "      <th>4599</th>\n",
              "      <td>0</td>\n",
              "      <td>mail</td>\n",
              "    </tr>\n",
              "    <tr>\n",
              "      <th>4600</th>\n",
              "      <td>0</td>\n",
              "      <td>mail</td>\n",
              "    </tr>\n",
              "  </tbody>\n",
              "</table>\n",
              "<p>4601 rows × 2 columns</p>\n",
              "</div>"
            ],
            "text/plain": [
              "      is_spam is_spam_label\n",
              "0           1          spam\n",
              "1           1          spam\n",
              "2           1          spam\n",
              "3           1          spam\n",
              "4           1          spam\n",
              "...       ...           ...\n",
              "4596        0          mail\n",
              "4597        0          mail\n",
              "4598        0          mail\n",
              "4599        0          mail\n",
              "4600        0          mail\n",
              "\n",
              "[4601 rows x 2 columns]"
            ]
          },
          "metadata": {
            "tags": []
          },
          "execution_count": 9
        }
      ]
    },
    {
      "cell_type": "code",
      "metadata": {
        "colab": {
          "base_uri": "https://localhost:8080/",
          "height": 264
        },
        "id": "AOB22IWHJPe1",
        "outputId": "35d9f253-b32b-48c7-e40b-decce7648bb4"
      },
      "source": [
        "# Affichage d'un graphique représentant le nombre de spam et de mail\r\n",
        "fig, ax = plt.subplots()\r\n",
        "\r\n",
        "ax.pie(dfData.groupby('is_spam').size(), labels=dfData.groupby('is_spam_label').groups, autopct='%1.1f%%',\r\n",
        "        shadow=True, startangle=90)\r\n",
        "ax.axis('equal')\r\n",
        "ax.set_title('Proportion de mail et de spam')\r\n",
        "plt.show()"
      ],
      "execution_count": 10,
      "outputs": [
        {
          "output_type": "display_data",
          "data": {
            "image/png": "[encoded data removed]",
            "text/plain": [
              "<Figure size 432x288 with 1 Axes>"
            ]
          },
          "metadata": {
            "tags": []
          }
        }
      ]
    },
    {
      "cell_type": "markdown",
      "metadata": {
        "id": "f359bsQd_rJ5"
      },
      "source": [
        "Nous avons donc beaucoup plus de mails (60.6%) que de spams (39.4%). Regardons maintenant le résumé de chaque colonne."
      ]
    },
    {
      "cell_type": "code",
      "metadata": {
        "colab": {
          "base_uri": "https://localhost:8080/",
          "height": 1000
        },
        "id": "v6y-99YNAG1a",
        "outputId": "a88554cd-1382-4771-f4e3-aed84a40a156"
      },
      "source": [
        "# Affichage du résumé des colonnes numériques (de manière transposée afin que cela soit plus lisible)\r\n",
        "dfData.describe().T"
      ],
      "execution_count": 11,
      "outputs": [
        {
          "output_type": "execute_result",
          "data": {
            "text/html": [
              "<div>\n",
              "<style scoped>\n",
              "    .dataframe tbody tr th:only-of-type {\n",
              "        vertical-align: middle;\n",
              "    }\n",
              "\n",
              "    .dataframe tbody tr th {\n",
              "        vertical-align: top;\n",
              "    }\n",
              "\n",
              "    .dataframe thead th {\n",
              "        text-align: right;\n",
              "    }\n",
              "</style>\n",
              "<table border=\"1\" class=\"dataframe\">\n",
              "  <thead>\n",
              "    <tr style=\"text-align: right;\">\n",
              "      <th></th>\n",
              "      <th>count</th>\n",
              "      <th>mean</th>\n",
              "      <th>std</th>\n",
              "      <th>min</th>\n",
              "      <th>25%</th>\n",
              "      <th>50%</th>\n",
              "      <th>75%</th>\n",
              "      <th>max</th>\n",
              "    </tr>\n",
              "  </thead>\n",
              "  <tbody>\n",
              "    <tr>\n",
              "      <th>wf_make</th>\n",
              "      <td>4601.0</td>\n",
              "      <td>0.104553</td>\n",
              "      <td>0.305358</td>\n",
              "      <td>0.0</td>\n",
              "      <td>0.000</td>\n",
              "      <td>0.000</td>\n",
              "      <td>0.000</td>\n",
              "      <td>4.540</td>\n",
              "    </tr>\n",
              "    <tr>\n",
              "      <th>wf_address</th>\n",
              "      <td>4601.0</td>\n",
              "      <td>0.213015</td>\n",
              "      <td>1.290575</td>\n",
              "      <td>0.0</td>\n",
              "      <td>0.000</td>\n",
              "      <td>0.000</td>\n",
              "      <td>0.000</td>\n",
              "      <td>14.280</td>\n",
              "    </tr>\n",
              "    <tr>\n",
              "      <th>wf_all</th>\n",
              "      <td>4601.0</td>\n",
              "      <td>0.280656</td>\n",
              "      <td>0.504143</td>\n",
              "      <td>0.0</td>\n",
              "      <td>0.000</td>\n",
              "      <td>0.000</td>\n",
              "      <td>0.420</td>\n",
              "      <td>5.100</td>\n",
              "    </tr>\n",
              "    <tr>\n",
              "      <th>wf_3d</th>\n",
              "      <td>4601.0</td>\n",
              "      <td>0.065425</td>\n",
              "      <td>1.395151</td>\n",
              "      <td>0.0</td>\n",
              "      <td>0.000</td>\n",
              "      <td>0.000</td>\n",
              "      <td>0.000</td>\n",
              "      <td>42.810</td>\n",
              "    </tr>\n",
              "    <tr>\n",
              "      <th>wf_our</th>\n",
              "      <td>4601.0</td>\n",
              "      <td>0.312223</td>\n",
              "      <td>0.672513</td>\n",
              "      <td>0.0</td>\n",
              "      <td>0.000</td>\n",
              "      <td>0.000</td>\n",
              "      <td>0.380</td>\n",
              "      <td>10.000</td>\n",
              "    </tr>\n",
              "    <tr>\n",
              "      <th>wf_over</th>\n",
              "      <td>4601.0</td>\n",
              "      <td>0.095901</td>\n",
              "      <td>0.273824</td>\n",
              "      <td>0.0</td>\n",
              "      <td>0.000</td>\n",
              "      <td>0.000</td>\n",
              "      <td>0.000</td>\n",
              "      <td>5.880</td>\n",
              "    </tr>\n",
              "    <tr>\n",
              "      <th>wf_remove</th>\n",
              "      <td>4601.0</td>\n",
              "      <td>0.114208</td>\n",
              "      <td>0.391441</td>\n",
              "      <td>0.0</td>\n",
              "      <td>0.000</td>\n",
              "      <td>0.000</td>\n",
              "      <td>0.000</td>\n",
              "      <td>7.270</td>\n",
              "    </tr>\n",
              "    <tr>\n",
              "      <th>wf_internet</th>\n",
              "      <td>4601.0</td>\n",
              "      <td>0.105295</td>\n",
              "      <td>0.401071</td>\n",
              "      <td>0.0</td>\n",
              "      <td>0.000</td>\n",
              "      <td>0.000</td>\n",
              "      <td>0.000</td>\n",
              "      <td>11.110</td>\n",
              "    </tr>\n",
              "    <tr>\n",
              "      <th>wf_order</th>\n",
              "      <td>4601.0</td>\n",
              "      <td>0.090067</td>\n",
              "      <td>0.278616</td>\n",
              "      <td>0.0</td>\n",
              "      <td>0.000</td>\n",
              "      <td>0.000</td>\n",
              "      <td>0.000</td>\n",
              "      <td>5.260</td>\n",
              "    </tr>\n",
              "    <tr>\n",
              "      <th>wf_mail</th>\n",
              "      <td>4601.0</td>\n",
              "      <td>0.239413</td>\n",
              "      <td>0.644755</td>\n",
              "      <td>0.0</td>\n",
              "      <td>0.000</td>\n",
              "      <td>0.000</td>\n",
              "      <td>0.160</td>\n",
              "      <td>18.180</td>\n",
              "    </tr>\n",
              "    <tr>\n",
              "      <th>wf_receive</th>\n",
              "      <td>4601.0</td>\n",
              "      <td>0.059824</td>\n",
              "      <td>0.201545</td>\n",
              "      <td>0.0</td>\n",
              "      <td>0.000</td>\n",
              "      <td>0.000</td>\n",
              "      <td>0.000</td>\n",
              "      <td>2.610</td>\n",
              "    </tr>\n",
              "    <tr>\n",
              "      <th>wf_will</th>\n",
              "      <td>4601.0</td>\n",
              "      <td>0.541702</td>\n",
              "      <td>0.861698</td>\n",
              "      <td>0.0</td>\n",
              "      <td>0.000</td>\n",
              "      <td>0.100</td>\n",
              "      <td>0.800</td>\n",
              "      <td>9.670</td>\n",
              "    </tr>\n",
              "    <tr>\n",
              "      <th>wf_people</th>\n",
              "      <td>4601.0</td>\n",
              "      <td>0.093930</td>\n",
              "      <td>0.301036</td>\n",
              "      <td>0.0</td>\n",
              "      <td>0.000</td>\n",
              "      <td>0.000</td>\n",
              "      <td>0.000</td>\n",
              "      <td>5.550</td>\n",
              "    </tr>\n",
              "    <tr>\n",
              "      <th>wf_report</th>\n",
              "      <td>4601.0</td>\n",
              "      <td>0.058626</td>\n",
              "      <td>0.335184</td>\n",
              "      <td>0.0</td>\n",
              "      <td>0.000</td>\n",
              "      <td>0.000</td>\n",
              "      <td>0.000</td>\n",
              "      <td>10.000</td>\n",
              "    </tr>\n",
              "    <tr>\n",
              "      <th>wf_addresses</th>\n",
              "      <td>4601.0</td>\n",
              "      <td>0.049205</td>\n",
              "      <td>0.258843</td>\n",
              "      <td>0.0</td>\n",
              "      <td>0.000</td>\n",
              "      <td>0.000</td>\n",
              "      <td>0.000</td>\n",
              "      <td>4.410</td>\n",
              "    </tr>\n",
              "    <tr>\n",
              "      <th>wf_free</th>\n",
              "      <td>4601.0</td>\n",
              "      <td>0.248848</td>\n",
              "      <td>0.825792</td>\n",
              "      <td>0.0</td>\n",
              "      <td>0.000</td>\n",
              "      <td>0.000</td>\n",
              "      <td>0.100</td>\n",
              "      <td>20.000</td>\n",
              "    </tr>\n",
              "    <tr>\n",
              "      <th>wf_business</th>\n",
              "      <td>4601.0</td>\n",
              "      <td>0.142586</td>\n",
              "      <td>0.444055</td>\n",
              "      <td>0.0</td>\n",
              "      <td>0.000</td>\n",
              "      <td>0.000</td>\n",
              "      <td>0.000</td>\n",
              "      <td>7.140</td>\n",
              "    </tr>\n",
              "    <tr>\n",
              "      <th>wf_email</th>\n",
              "      <td>4601.0</td>\n",
              "      <td>0.184745</td>\n",
              "      <td>0.531122</td>\n",
              "      <td>0.0</td>\n",
              "      <td>0.000</td>\n",
              "      <td>0.000</td>\n",
              "      <td>0.000</td>\n",
              "      <td>9.090</td>\n",
              "    </tr>\n",
              "    <tr>\n",
              "      <th>wf_you</th>\n",
              "      <td>4601.0</td>\n",
              "      <td>1.662100</td>\n",
              "      <td>1.775481</td>\n",
              "      <td>0.0</td>\n",
              "      <td>0.000</td>\n",
              "      <td>1.310</td>\n",
              "      <td>2.640</td>\n",
              "      <td>18.750</td>\n",
              "    </tr>\n",
              "    <tr>\n",
              "      <th>wf_credit</th>\n",
              "      <td>4601.0</td>\n",
              "      <td>0.085577</td>\n",
              "      <td>0.509767</td>\n",
              "      <td>0.0</td>\n",
              "      <td>0.000</td>\n",
              "      <td>0.000</td>\n",
              "      <td>0.000</td>\n",
              "      <td>18.180</td>\n",
              "    </tr>\n",
              "    <tr>\n",
              "      <th>wf_your</th>\n",
              "      <td>4601.0</td>\n",
              "      <td>0.809761</td>\n",
              "      <td>1.200810</td>\n",
              "      <td>0.0</td>\n",
              "      <td>0.000</td>\n",
              "      <td>0.220</td>\n",
              "      <td>1.270</td>\n",
              "      <td>11.110</td>\n",
              "    </tr>\n",
              "    <tr>\n",
              "      <th>wf_font</th>\n",
              "      <td>4601.0</td>\n",
              "      <td>0.121202</td>\n",
              "      <td>1.025756</td>\n",
              "      <td>0.0</td>\n",
              "      <td>0.000</td>\n",
              "      <td>0.000</td>\n",
              "      <td>0.000</td>\n",
              "      <td>17.100</td>\n",
              "    </tr>\n",
              "    <tr>\n",
              "      <th>wf_000</th>\n",
              "      <td>4601.0</td>\n",
              "      <td>0.101645</td>\n",
              "      <td>0.350286</td>\n",
              "      <td>0.0</td>\n",
              "      <td>0.000</td>\n",
              "      <td>0.000</td>\n",
              "      <td>0.000</td>\n",
              "      <td>5.450</td>\n",
              "    </tr>\n",
              "    <tr>\n",
              "      <th>wf_money</th>\n",
              "      <td>4601.0</td>\n",
              "      <td>0.094269</td>\n",
              "      <td>0.442636</td>\n",
              "      <td>0.0</td>\n",
              "      <td>0.000</td>\n",
              "      <td>0.000</td>\n",
              "      <td>0.000</td>\n",
              "      <td>12.500</td>\n",
              "    </tr>\n",
              "    <tr>\n",
              "      <th>wf_hp</th>\n",
              "      <td>4601.0</td>\n",
              "      <td>0.549504</td>\n",
              "      <td>1.671349</td>\n",
              "      <td>0.0</td>\n",
              "      <td>0.000</td>\n",
              "      <td>0.000</td>\n",
              "      <td>0.000</td>\n",
              "      <td>20.830</td>\n",
              "    </tr>\n",
              "    <tr>\n",
              "      <th>wf_hpl</th>\n",
              "      <td>4601.0</td>\n",
              "      <td>0.265384</td>\n",
              "      <td>0.886955</td>\n",
              "      <td>0.0</td>\n",
              "      <td>0.000</td>\n",
              "      <td>0.000</td>\n",
              "      <td>0.000</td>\n",
              "      <td>16.660</td>\n",
              "    </tr>\n",
              "    <tr>\n",
              "      <th>wf_george</th>\n",
              "      <td>4601.0</td>\n",
              "      <td>0.767305</td>\n",
              "      <td>3.367292</td>\n",
              "      <td>0.0</td>\n",
              "      <td>0.000</td>\n",
              "      <td>0.000</td>\n",
              "      <td>0.000</td>\n",
              "      <td>33.330</td>\n",
              "    </tr>\n",
              "    <tr>\n",
              "      <th>wf_650</th>\n",
              "      <td>4601.0</td>\n",
              "      <td>0.124845</td>\n",
              "      <td>0.538576</td>\n",
              "      <td>0.0</td>\n",
              "      <td>0.000</td>\n",
              "      <td>0.000</td>\n",
              "      <td>0.000</td>\n",
              "      <td>9.090</td>\n",
              "    </tr>\n",
              "    <tr>\n",
              "      <th>wf_lab</th>\n",
              "      <td>4601.0</td>\n",
              "      <td>0.098915</td>\n",
              "      <td>0.593327</td>\n",
              "      <td>0.0</td>\n",
              "      <td>0.000</td>\n",
              "      <td>0.000</td>\n",
              "      <td>0.000</td>\n",
              "      <td>14.280</td>\n",
              "    </tr>\n",
              "    <tr>\n",
              "      <th>wf_labs</th>\n",
              "      <td>4601.0</td>\n",
              "      <td>0.102852</td>\n",
              "      <td>0.456682</td>\n",
              "      <td>0.0</td>\n",
              "      <td>0.000</td>\n",
              "      <td>0.000</td>\n",
              "      <td>0.000</td>\n",
              "      <td>5.880</td>\n",
              "    </tr>\n",
              "    <tr>\n",
              "      <th>wf_telnet</th>\n",
              "      <td>4601.0</td>\n",
              "      <td>0.064753</td>\n",
              "      <td>0.403393</td>\n",
              "      <td>0.0</td>\n",
              "      <td>0.000</td>\n",
              "      <td>0.000</td>\n",
              "      <td>0.000</td>\n",
              "      <td>12.500</td>\n",
              "    </tr>\n",
              "    <tr>\n",
              "      <th>wf_857</th>\n",
              "      <td>4601.0</td>\n",
              "      <td>0.047048</td>\n",
              "      <td>0.328559</td>\n",
              "      <td>0.0</td>\n",
              "      <td>0.000</td>\n",
              "      <td>0.000</td>\n",
              "      <td>0.000</td>\n",
              "      <td>4.760</td>\n",
              "    </tr>\n",
              "    <tr>\n",
              "      <th>wf_data</th>\n",
              "      <td>4601.0</td>\n",
              "      <td>0.097229</td>\n",
              "      <td>0.555907</td>\n",
              "      <td>0.0</td>\n",
              "      <td>0.000</td>\n",
              "      <td>0.000</td>\n",
              "      <td>0.000</td>\n",
              "      <td>18.180</td>\n",
              "    </tr>\n",
              "    <tr>\n",
              "      <th>wf_415</th>\n",
              "      <td>4601.0</td>\n",
              "      <td>0.047835</td>\n",
              "      <td>0.329445</td>\n",
              "      <td>0.0</td>\n",
              "      <td>0.000</td>\n",
              "      <td>0.000</td>\n",
              "      <td>0.000</td>\n",
              "      <td>4.760</td>\n",
              "    </tr>\n",
              "    <tr>\n",
              "      <th>wf_85</th>\n",
              "      <td>4601.0</td>\n",
              "      <td>0.105412</td>\n",
              "      <td>0.532260</td>\n",
              "      <td>0.0</td>\n",
              "      <td>0.000</td>\n",
              "      <td>0.000</td>\n",
              "      <td>0.000</td>\n",
              "      <td>20.000</td>\n",
              "    </tr>\n",
              "    <tr>\n",
              "      <th>wf_technology</th>\n",
              "      <td>4601.0</td>\n",
              "      <td>0.097477</td>\n",
              "      <td>0.402623</td>\n",
              "      <td>0.0</td>\n",
              "      <td>0.000</td>\n",
              "      <td>0.000</td>\n",
              "      <td>0.000</td>\n",
              "      <td>7.690</td>\n",
              "    </tr>\n",
              "    <tr>\n",
              "      <th>wf_1999</th>\n",
              "      <td>4601.0</td>\n",
              "      <td>0.136953</td>\n",
              "      <td>0.423451</td>\n",
              "      <td>0.0</td>\n",
              "      <td>0.000</td>\n",
              "      <td>0.000</td>\n",
              "      <td>0.000</td>\n",
              "      <td>6.890</td>\n",
              "    </tr>\n",
              "    <tr>\n",
              "      <th>wf_parts</th>\n",
              "      <td>4601.0</td>\n",
              "      <td>0.013201</td>\n",
              "      <td>0.220651</td>\n",
              "      <td>0.0</td>\n",
              "      <td>0.000</td>\n",
              "      <td>0.000</td>\n",
              "      <td>0.000</td>\n",
              "      <td>8.330</td>\n",
              "    </tr>\n",
              "    <tr>\n",
              "      <th>wf_pm</th>\n",
              "      <td>4601.0</td>\n",
              "      <td>0.078629</td>\n",
              "      <td>0.434672</td>\n",
              "      <td>0.0</td>\n",
              "      <td>0.000</td>\n",
              "      <td>0.000</td>\n",
              "      <td>0.000</td>\n",
              "      <td>11.110</td>\n",
              "    </tr>\n",
              "    <tr>\n",
              "      <th>wf_direct</th>\n",
              "      <td>4601.0</td>\n",
              "      <td>0.064834</td>\n",
              "      <td>0.349916</td>\n",
              "      <td>0.0</td>\n",
              "      <td>0.000</td>\n",
              "      <td>0.000</td>\n",
              "      <td>0.000</td>\n",
              "      <td>4.760</td>\n",
              "    </tr>\n",
              "    <tr>\n",
              "      <th>wf_cs</th>\n",
              "      <td>4601.0</td>\n",
              "      <td>0.043667</td>\n",
              "      <td>0.361205</td>\n",
              "      <td>0.0</td>\n",
              "      <td>0.000</td>\n",
              "      <td>0.000</td>\n",
              "      <td>0.000</td>\n",
              "      <td>7.140</td>\n",
              "    </tr>\n",
              "    <tr>\n",
              "      <th>wf_meeting</th>\n",
              "      <td>4601.0</td>\n",
              "      <td>0.132339</td>\n",
              "      <td>0.766819</td>\n",
              "      <td>0.0</td>\n",
              "      <td>0.000</td>\n",
              "      <td>0.000</td>\n",
              "      <td>0.000</td>\n",
              "      <td>14.280</td>\n",
              "    </tr>\n",
              "    <tr>\n",
              "      <th>wf_original</th>\n",
              "      <td>4601.0</td>\n",
              "      <td>0.046099</td>\n",
              "      <td>0.223812</td>\n",
              "      <td>0.0</td>\n",
              "      <td>0.000</td>\n",
              "      <td>0.000</td>\n",
              "      <td>0.000</td>\n",
              "      <td>3.570</td>\n",
              "    </tr>\n",
              "    <tr>\n",
              "      <th>wf_project</th>\n",
              "      <td>4601.0</td>\n",
              "      <td>0.079196</td>\n",
              "      <td>0.621976</td>\n",
              "      <td>0.0</td>\n",
              "      <td>0.000</td>\n",
              "      <td>0.000</td>\n",
              "      <td>0.000</td>\n",
              "      <td>20.000</td>\n",
              "    </tr>\n",
              "    <tr>\n",
              "      <th>wf_re</th>\n",
              "      <td>4601.0</td>\n",
              "      <td>0.301224</td>\n",
              "      <td>1.011687</td>\n",
              "      <td>0.0</td>\n",
              "      <td>0.000</td>\n",
              "      <td>0.000</td>\n",
              "      <td>0.110</td>\n",
              "      <td>21.420</td>\n",
              "    </tr>\n",
              "    <tr>\n",
              "      <th>wf_edu</th>\n",
              "      <td>4601.0</td>\n",
              "      <td>0.179824</td>\n",
              "      <td>0.911119</td>\n",
              "      <td>0.0</td>\n",
              "      <td>0.000</td>\n",
              "      <td>0.000</td>\n",
              "      <td>0.000</td>\n",
              "      <td>22.050</td>\n",
              "    </tr>\n",
              "    <tr>\n",
              "      <th>wf_table</th>\n",
              "      <td>4601.0</td>\n",
              "      <td>0.005444</td>\n",
              "      <td>0.076274</td>\n",
              "      <td>0.0</td>\n",
              "      <td>0.000</td>\n",
              "      <td>0.000</td>\n",
              "      <td>0.000</td>\n",
              "      <td>2.170</td>\n",
              "    </tr>\n",
              "    <tr>\n",
              "      <th>wf_conference</th>\n",
              "      <td>4601.0</td>\n",
              "      <td>0.031869</td>\n",
              "      <td>0.285735</td>\n",
              "      <td>0.0</td>\n",
              "      <td>0.000</td>\n",
              "      <td>0.000</td>\n",
              "      <td>0.000</td>\n",
              "      <td>10.000</td>\n",
              "    </tr>\n",
              "    <tr>\n",
              "      <th>cf_;</th>\n",
              "      <td>4601.0</td>\n",
              "      <td>0.038575</td>\n",
              "      <td>0.243471</td>\n",
              "      <td>0.0</td>\n",
              "      <td>0.000</td>\n",
              "      <td>0.000</td>\n",
              "      <td>0.000</td>\n",
              "      <td>4.385</td>\n",
              "    </tr>\n",
              "    <tr>\n",
              "      <th>cf_(</th>\n",
              "      <td>4601.0</td>\n",
              "      <td>0.139030</td>\n",
              "      <td>0.270355</td>\n",
              "      <td>0.0</td>\n",
              "      <td>0.000</td>\n",
              "      <td>0.065</td>\n",
              "      <td>0.188</td>\n",
              "      <td>9.752</td>\n",
              "    </tr>\n",
              "    <tr>\n",
              "      <th>cf_[</th>\n",
              "      <td>4601.0</td>\n",
              "      <td>0.016976</td>\n",
              "      <td>0.109394</td>\n",
              "      <td>0.0</td>\n",
              "      <td>0.000</td>\n",
              "      <td>0.000</td>\n",
              "      <td>0.000</td>\n",
              "      <td>4.081</td>\n",
              "    </tr>\n",
              "    <tr>\n",
              "      <th>cf_!</th>\n",
              "      <td>4601.0</td>\n",
              "      <td>0.269071</td>\n",
              "      <td>0.815672</td>\n",
              "      <td>0.0</td>\n",
              "      <td>0.000</td>\n",
              "      <td>0.000</td>\n",
              "      <td>0.315</td>\n",
              "      <td>32.478</td>\n",
              "    </tr>\n",
              "    <tr>\n",
              "      <th>cf_$</th>\n",
              "      <td>4601.0</td>\n",
              "      <td>0.075811</td>\n",
              "      <td>0.245882</td>\n",
              "      <td>0.0</td>\n",
              "      <td>0.000</td>\n",
              "      <td>0.000</td>\n",
              "      <td>0.052</td>\n",
              "      <td>6.003</td>\n",
              "    </tr>\n",
              "    <tr>\n",
              "      <th>cf_#</th>\n",
              "      <td>4601.0</td>\n",
              "      <td>0.044238</td>\n",
              "      <td>0.429342</td>\n",
              "      <td>0.0</td>\n",
              "      <td>0.000</td>\n",
              "      <td>0.000</td>\n",
              "      <td>0.000</td>\n",
              "      <td>19.829</td>\n",
              "    </tr>\n",
              "    <tr>\n",
              "      <th>cap_rl_average</th>\n",
              "      <td>4601.0</td>\n",
              "      <td>5.191515</td>\n",
              "      <td>31.729449</td>\n",
              "      <td>1.0</td>\n",
              "      <td>1.588</td>\n",
              "      <td>2.276</td>\n",
              "      <td>3.706</td>\n",
              "      <td>1102.500</td>\n",
              "    </tr>\n",
              "    <tr>\n",
              "      <th>cap_rl_longest</th>\n",
              "      <td>4601.0</td>\n",
              "      <td>52.172789</td>\n",
              "      <td>194.891310</td>\n",
              "      <td>1.0</td>\n",
              "      <td>6.000</td>\n",
              "      <td>15.000</td>\n",
              "      <td>43.000</td>\n",
              "      <td>9989.000</td>\n",
              "    </tr>\n",
              "    <tr>\n",
              "      <th>cap_rl_total</th>\n",
              "      <td>4601.0</td>\n",
              "      <td>283.289285</td>\n",
              "      <td>606.347851</td>\n",
              "      <td>1.0</td>\n",
              "      <td>35.000</td>\n",
              "      <td>95.000</td>\n",
              "      <td>266.000</td>\n",
              "      <td>15841.000</td>\n",
              "    </tr>\n",
              "    <tr>\n",
              "      <th>is_spam</th>\n",
              "      <td>4601.0</td>\n",
              "      <td>0.394045</td>\n",
              "      <td>0.488698</td>\n",
              "      <td>0.0</td>\n",
              "      <td>0.000</td>\n",
              "      <td>0.000</td>\n",
              "      <td>1.000</td>\n",
              "      <td>1.000</td>\n",
              "    </tr>\n",
              "  </tbody>\n",
              "</table>\n",
              "</div>"
            ],
            "text/plain": [
              "                 count        mean         std  ...     50%      75%        max\n",
              "wf_make         4601.0    0.104553    0.305358  ...   0.000    0.000      4.540\n",
              "wf_address      4601.0    0.213015    1.290575  ...   0.000    0.000     14.280\n",
              "wf_all          4601.0    0.280656    0.504143  ...   0.000    0.420      5.100\n",
              "wf_3d           4601.0    0.065425    1.395151  ...   0.000    0.000     42.810\n",
              "wf_our          4601.0    0.312223    0.672513  ...   0.000    0.380     10.000\n",
              "wf_over         4601.0    0.095901    0.273824  ...   0.000    0.000      5.880\n",
              "wf_remove       4601.0    0.114208    0.391441  ...   0.000    0.000      7.270\n",
              "wf_internet     4601.0    0.105295    0.401071  ...   0.000    0.000     11.110\n",
              "wf_order        4601.0    0.090067    0.278616  ...   0.000    0.000      5.260\n",
              "wf_mail         4601.0    0.239413    0.644755  ...   0.000    0.160     18.180\n",
              "wf_receive      4601.0    0.059824    0.201545  ...   0.000    0.000      2.610\n",
              "wf_will         4601.0    0.541702    0.861698  ...   0.100    0.800      9.670\n",
              "wf_people       4601.0    0.093930    0.301036  ...   0.000    0.000      5.550\n",
              "wf_report       4601.0    0.058626    0.335184  ...   0.000    0.000     10.000\n",
              "wf_addresses    4601.0    0.049205    0.258843  ...   0.000    0.000      4.410\n",
              "wf_free         4601.0    0.248848    0.825792  ...   0.000    0.100     20.000\n",
              "wf_business     4601.0    0.142586    0.444055  ...   0.000    0.000      7.140\n",
              "wf_email        4601.0    0.184745    0.531122  ...   0.000    0.000      9.090\n",
              "wf_you          4601.0    1.662100    1.775481  ...   1.310    2.640     18.750\n",
              "wf_credit       4601.0    0.085577    0.509767  ...   0.000    0.000     18.180\n",
              "wf_your         4601.0    0.809761    1.200810  ...   0.220    1.270     11.110\n",
              "wf_font         4601.0    0.121202    1.025756  ...   0.000    0.000     17.100\n",
              "wf_000          4601.0    0.101645    0.350286  ...   0.000    0.000      5.450\n",
              "wf_money        4601.0    0.094269    0.442636  ...   0.000    0.000     12.500\n",
              "wf_hp           4601.0    0.549504    1.671349  ...   0.000    0.000     20.830\n",
              "wf_hpl          4601.0    0.265384    0.886955  ...   0.000    0.000     16.660\n",
              "wf_george       4601.0    0.767305    3.367292  ...   0.000    0.000     33.330\n",
              "wf_650          4601.0    0.124845    0.538576  ...   0.000    0.000      9.090\n",
              "wf_lab          4601.0    0.098915    0.593327  ...   0.000    0.000     14.280\n",
              "wf_labs         4601.0    0.102852    0.456682  ...   0.000    0.000      5.880\n",
              "wf_telnet       4601.0    0.064753    0.403393  ...   0.000    0.000     12.500\n",
              "wf_857          4601.0    0.047048    0.328559  ...   0.000    0.000      4.760\n",
              "wf_data         4601.0    0.097229    0.555907  ...   0.000    0.000     18.180\n",
              "wf_415          4601.0    0.047835    0.329445  ...   0.000    0.000      4.760\n",
              "wf_85           4601.0    0.105412    0.532260  ...   0.000    0.000     20.000\n",
              "wf_technology   4601.0    0.097477    0.402623  ...   0.000    0.000      7.690\n",
              "wf_1999         4601.0    0.136953    0.423451  ...   0.000    0.000      6.890\n",
              "wf_parts        4601.0    0.013201    0.220651  ...   0.000    0.000      8.330\n",
              "wf_pm           4601.0    0.078629    0.434672  ...   0.000    0.000     11.110\n",
              "wf_direct       4601.0    0.064834    0.349916  ...   0.000    0.000      4.760\n",
              "wf_cs           4601.0    0.043667    0.361205  ...   0.000    0.000      7.140\n",
              "wf_meeting      4601.0    0.132339    0.766819  ...   0.000    0.000     14.280\n",
              "wf_original     4601.0    0.046099    0.223812  ...   0.000    0.000      3.570\n",
              "wf_project      4601.0    0.079196    0.621976  ...   0.000    0.000     20.000\n",
              "wf_re           4601.0    0.301224    1.011687  ...   0.000    0.110     21.420\n",
              "wf_edu          4601.0    0.179824    0.911119  ...   0.000    0.000     22.050\n",
              "wf_table        4601.0    0.005444    0.076274  ...   0.000    0.000      2.170\n",
              "wf_conference   4601.0    0.031869    0.285735  ...   0.000    0.000     10.000\n",
              "cf_;            4601.0    0.038575    0.243471  ...   0.000    0.000      4.385\n",
              "cf_(            4601.0    0.139030    0.270355  ...   0.065    0.188      9.752\n",
              "cf_[            4601.0    0.016976    0.109394  ...   0.000    0.000      4.081\n",
              "cf_!            4601.0    0.269071    0.815672  ...   0.000    0.315     32.478\n",
              "cf_$            4601.0    0.075811    0.245882  ...   0.000    0.052      6.003\n",
              "cf_#            4601.0    0.044238    0.429342  ...   0.000    0.000     19.829\n",
              "cap_rl_average  4601.0    5.191515   31.729449  ...   2.276    3.706   1102.500\n",
              "cap_rl_longest  4601.0   52.172789  194.891310  ...  15.000   43.000   9989.000\n",
              "cap_rl_total    4601.0  283.289285  606.347851  ...  95.000  266.000  15841.000\n",
              "is_spam         4601.0    0.394045    0.488698  ...   0.000    1.000      1.000\n",
              "\n",
              "[58 rows x 8 columns]"
            ]
          },
          "metadata": {
            "tags": []
          },
          "execution_count": 11
        }
      ]
    },
    {
      "cell_type": "markdown",
      "metadata": {
        "id": "joXArEPSBbhO"
      },
      "source": [
        "On peut voir ici que la majorité des critères ont les quartiles de 25% et 50% valant 0. N'oublions pas qu'ici, les mails et spams sont mélangés. Voyons voir quelles valeurs nous obtenons si nous les séparons par groupe :"
      ]
    },
    {
      "cell_type": "code",
      "metadata": {
        "colab": {
          "base_uri": "https://localhost:8080/",
          "height": 173
        },
        "id": "b3NNsh_WBMl5",
        "outputId": "bba317d3-6e6e-4336-ea23-dc0a5e8c92ad"
      },
      "source": [
        "# Résumé du critère de fréquence du mot \"all\" entre la classe spam et la classe mail\r\n",
        "dfData[['wf_all', 'is_spam_label']].groupby('is_spam_label').describe()"
      ],
      "execution_count": 12,
      "outputs": [
        {
          "output_type": "execute_result",
          "data": {
            "text/html": [
              "<div>\n",
              "<style scoped>\n",
              "    .dataframe tbody tr th:only-of-type {\n",
              "        vertical-align: middle;\n",
              "    }\n",
              "\n",
              "    .dataframe tbody tr th {\n",
              "        vertical-align: top;\n",
              "    }\n",
              "\n",
              "    .dataframe thead tr th {\n",
              "        text-align: left;\n",
              "    }\n",
              "\n",
              "    .dataframe thead tr:last-of-type th {\n",
              "        text-align: right;\n",
              "    }\n",
              "</style>\n",
              "<table border=\"1\" class=\"dataframe\">\n",
              "  <thead>\n",
              "    <tr>\n",
              "      <th></th>\n",
              "      <th colspan=\"8\" halign=\"left\">wf_all</th>\n",
              "    </tr>\n",
              "    <tr>\n",
              "      <th></th>\n",
              "      <th>count</th>\n",
              "      <th>mean</th>\n",
              "      <th>std</th>\n",
              "      <th>min</th>\n",
              "      <th>25%</th>\n",
              "      <th>50%</th>\n",
              "      <th>75%</th>\n",
              "      <th>max</th>\n",
              "    </tr>\n",
              "    <tr>\n",
              "      <th>is_spam_label</th>\n",
              "      <th></th>\n",
              "      <th></th>\n",
              "      <th></th>\n",
              "      <th></th>\n",
              "      <th></th>\n",
              "      <th></th>\n",
              "      <th></th>\n",
              "      <th></th>\n",
              "    </tr>\n",
              "  </thead>\n",
              "  <tbody>\n",
              "    <tr>\n",
              "      <th>mail</th>\n",
              "      <td>2788.0</td>\n",
              "      <td>0.200581</td>\n",
              "      <td>0.502959</td>\n",
              "      <td>0.0</td>\n",
              "      <td>0.0</td>\n",
              "      <td>0.0</td>\n",
              "      <td>0.12</td>\n",
              "      <td>5.1</td>\n",
              "    </tr>\n",
              "    <tr>\n",
              "      <th>spam</th>\n",
              "      <td>1813.0</td>\n",
              "      <td>0.403795</td>\n",
              "      <td>0.480725</td>\n",
              "      <td>0.0</td>\n",
              "      <td>0.0</td>\n",
              "      <td>0.3</td>\n",
              "      <td>0.64</td>\n",
              "      <td>3.7</td>\n",
              "    </tr>\n",
              "  </tbody>\n",
              "</table>\n",
              "</div>"
            ],
            "text/plain": [
              "               wf_all                                              \n",
              "                count      mean       std  min  25%  50%   75%  max\n",
              "is_spam_label                                                      \n",
              "mail           2788.0  0.200581  0.502959  0.0  0.0  0.0  0.12  5.1\n",
              "spam           1813.0  0.403795  0.480725  0.0  0.0  0.3  0.64  3.7"
            ]
          },
          "metadata": {
            "tags": []
          },
          "execution_count": 12
        }
      ]
    },
    {
      "cell_type": "markdown",
      "metadata": {
        "id": "zMevCIP_B9-0"
      },
      "source": [
        "On peut maintenant voir que le quartile 50% vaut 0.3 pour la classe spam, mais 0.0 pour la classe mail. Pour la suite de cette étude, nous allons étudier les deux groupes séparés et les comparer entre eux."
      ]
    },
    {
      "cell_type": "markdown",
      "metadata": {
        "id": "pFz9Gm14umFm"
      },
      "source": [
        "Enfin, avant d'étudier les différents groupes, jetons un coup d'oeil à la matrice de corrélation du jeu de données:"
      ]
    },
    {
      "cell_type": "code",
      "metadata": {
        "colab": {
          "base_uri": "https://localhost:8080/",
          "height": 1000
        },
        "id": "m_G8q0Mturg9",
        "outputId": "8565a96b-539e-4963-cff3-1348cf85563a"
      },
      "source": [
        "correlation_matrix = dfData.loc[:, dfData.columns != 'is_spam_label'].corr()\r\n",
        "fig = plt.figure(figsize=(30,30))\r\n",
        "sns.heatmap(correlation_matrix, cmap =\"mako\", vmin=-1, square=True,)"
      ],
      "execution_count": 104,
      "outputs": [
        {
          "output_type": "execute_result",
          "data": {
            "text/plain": [
              "<matplotlib.axes._subplots.AxesSubplot at 0x7f1d8738f898>"
            ]
          },
          "metadata": {
            "tags": []
          },
          "execution_count": 104
        },
        {
          "output_type": "display_data",
          "data": {
            "image/png": "[encoded data removed]",
            "text/plain": [
              "<Figure size 2160x2160 with 2 Axes>"
            ]
          },
          "metadata": {
            "tags": [],
            "needs_background": "light"
          }
        }
      ]
    },
    {
      "cell_type": "markdown",
      "metadata": {
        "id": "E77tANflIaTo"
      },
      "source": [
        "# Création des différents groupes à étudier"
      ]
    },
    {
      "cell_type": "markdown",
      "metadata": {
        "id": "_Py14OimIeNw"
      },
      "source": [
        "Premièrement, nous allons créer le groupe des spams et le groupe des mails."
      ]
    },
    {
      "cell_type": "code",
      "metadata": {
        "id": "q3fgEgebLrOG"
      },
      "source": [
        "# Création des différents groupes étudiés\r\n",
        "spams = dfData[dfData['is_spam'] == 1]\r\n",
        "mails = dfData[dfData['is_spam'] == 0]"
      ],
      "execution_count": 13,
      "outputs": []
    },
    {
      "cell_type": "markdown",
      "metadata": {
        "id": "bJC58GhiImV7"
      },
      "source": [
        "De plus, comme présenté au début, nous avons trois types d'attributs:\r\n",
        "- la fréquence des mots\r\n",
        "- la fréquence des caractères\r\n",
        "- quelques statistiques sur les lettres majuscules\r\n",
        "\r\n",
        "On va donc grouper les noms de colonnes communs pour pouvoir faire une étude par type d'attributs."
      ]
    },
    {
      "cell_type": "code",
      "metadata": {
        "colab": {
          "base_uri": "https://localhost:8080/"
        },
        "id": "G_ymJm03XFqH",
        "outputId": "cef99346-3a88-483a-8c4e-4b54b3b1fb2d"
      },
      "source": [
        "# Récupération de la fréquence des mots\r\n",
        "word_frequency_columns = dfData.columns[0:48].values.tolist()\r\n",
        "\r\n",
        "word_frequency_columns"
      ],
      "execution_count": 14,
      "outputs": [
        {
          "output_type": "execute_result",
          "data": {
            "text/plain": [
              "['wf_make',\n",
              " 'wf_address',\n",
              " 'wf_all',\n",
              " 'wf_3d',\n",
              " 'wf_our',\n",
              " 'wf_over',\n",
              " 'wf_remove',\n",
              " 'wf_internet',\n",
              " 'wf_order',\n",
              " 'wf_mail',\n",
              " 'wf_receive',\n",
              " 'wf_will',\n",
              " 'wf_people',\n",
              " 'wf_report',\n",
              " 'wf_addresses',\n",
              " 'wf_free',\n",
              " 'wf_business',\n",
              " 'wf_email',\n",
              " 'wf_you',\n",
              " 'wf_credit',\n",
              " 'wf_your',\n",
              " 'wf_font',\n",
              " 'wf_000',\n",
              " 'wf_money',\n",
              " 'wf_hp',\n",
              " 'wf_hpl',\n",
              " 'wf_george',\n",
              " 'wf_650',\n",
              " 'wf_lab',\n",
              " 'wf_labs',\n",
              " 'wf_telnet',\n",
              " 'wf_857',\n",
              " 'wf_data',\n",
              " 'wf_415',\n",
              " 'wf_85',\n",
              " 'wf_technology',\n",
              " 'wf_1999',\n",
              " 'wf_parts',\n",
              " 'wf_pm',\n",
              " 'wf_direct',\n",
              " 'wf_cs',\n",
              " 'wf_meeting',\n",
              " 'wf_original',\n",
              " 'wf_project',\n",
              " 'wf_re',\n",
              " 'wf_edu',\n",
              " 'wf_table',\n",
              " 'wf_conference']"
            ]
          },
          "metadata": {
            "tags": []
          },
          "execution_count": 14
        }
      ]
    },
    {
      "cell_type": "code",
      "metadata": {
        "colab": {
          "base_uri": "https://localhost:8080/"
        },
        "id": "DTCKPFyikk16",
        "outputId": "28133516-33c6-489e-bd70-b0dc3e84b5d8"
      },
      "source": [
        "# Récupération de la fréquence des caractères\r\n",
        "char_frequency_columns = dfData.columns[49:54].values.tolist()\r\n",
        "\r\n",
        "char_frequency_columns"
      ],
      "execution_count": 15,
      "outputs": [
        {
          "output_type": "execute_result",
          "data": {
            "text/plain": [
              "['cf_(', 'cf_[', 'cf_!', 'cf_$', 'cf_#']"
            ]
          },
          "metadata": {
            "tags": []
          },
          "execution_count": 15
        }
      ]
    },
    {
      "cell_type": "code",
      "metadata": {
        "colab": {
          "base_uri": "https://localhost:8080/"
        },
        "id": "KNBvPS4Ok5JD",
        "outputId": "ac6105eb-3f8a-4f89-c0c8-bf36086e97e9"
      },
      "source": [
        "# Récupération des statistiques sur les majuscules\r\n",
        "cap_stats_columns = dfData.columns[54:57].values.tolist()\r\n",
        "\r\n",
        "cap_stats_columns"
      ],
      "execution_count": 16,
      "outputs": [
        {
          "output_type": "execute_result",
          "data": {
            "text/plain": [
              "['cap_rl_average', 'cap_rl_longest', 'cap_rl_total']"
            ]
          },
          "metadata": {
            "tags": []
          },
          "execution_count": 16
        }
      ]
    },
    {
      "cell_type": "markdown",
      "metadata": {
        "id": "wuLriRypcTGK"
      },
      "source": [
        "# Etude de la fréquence des mots"
      ]
    },
    {
      "cell_type": "markdown",
      "metadata": {
        "id": "notj6D88JL3F"
      },
      "source": [
        "Commençons par étudier les attributs de fréquences des mots. Nous allons chercher à voir quels sont les attributs les plus susceptibles de nous aider à différencier un mail d'un spam.\r\n",
        "\r\n",
        "Comparons donc leur moyenne pour commencer."
      ]
    },
    {
      "cell_type": "code",
      "metadata": {
        "id": "mnQ06UXzHv3n"
      },
      "source": [
        "# Crée un graphique bar comparant deux listes de valeurs entre les classes de is_spam\r\n",
        "def plot_bar_compare_isspam(title, df, columns):\r\n",
        "    width = 0.35\r\n",
        "    x = np.arange(len(columns)) \r\n",
        "    plt.figure(figsize=(15,20))\r\n",
        "    fig, ax = plt.subplots()\r\n",
        "    # Création des barres rectangulaires\r\n",
        "    rects1 = ax.bar(x - width/2, df.loc['mail', columns], width, label='Mail')\r\n",
        "    rects2 = ax.bar(x + width/2, df.loc['spam', columns], width, label='Spam')\r\n",
        "\r\n",
        "    # Add some text for labels, title and custom x-axis tick labels, etc.\r\n",
        "    ax.set_ylabel('Fréquence')\r\n",
        "    ax.set_title(title)\r\n",
        "    ax.set_xticks(x)\r\n",
        "    ax.set_xticklabels(columns)\r\n",
        "    ax.legend()\r\n",
        "\r\n",
        "    fig.set_figheight(5)\r\n",
        "    fig.set_figwidth(28)\r\n",
        "\r\n",
        "    plt.show()"
      ],
      "execution_count": 17,
      "outputs": []
    },
    {
      "cell_type": "code",
      "metadata": {
        "colab": {
          "base_uri": "https://localhost:8080/",
          "height": 162
        },
        "id": "Ehzo0CsgcuUp",
        "outputId": "5c81c01a-c495-4bc2-d8ba-d667005345fa"
      },
      "source": [
        "# Récupération des valeurs moyennes de chaque colonne\r\n",
        "df_means = dfData.groupby('is_spam_label').mean()\r\n",
        "\r\n",
        "df_means"
      ],
      "execution_count": 18,
      "outputs": [
        {
          "output_type": "execute_result",
          "data": {
            "text/html": [
              "<div>\n",
              "<style scoped>\n",
              "    .dataframe tbody tr th:only-of-type {\n",
              "        vertical-align: middle;\n",
              "    }\n",
              "\n",
              "    .dataframe tbody tr th {\n",
              "        vertical-align: top;\n",
              "    }\n",
              "\n",
              "    .dataframe thead th {\n",
              "        text-align: right;\n",
              "    }\n",
              "</style>\n",
              "<table border=\"1\" class=\"dataframe\">\n",
              "  <thead>\n",
              "    <tr style=\"text-align: right;\">\n",
              "      <th></th>\n",
              "      <th>wf_make</th>\n",
              "      <th>wf_address</th>\n",
              "      <th>wf_all</th>\n",
              "      <th>wf_3d</th>\n",
              "      <th>wf_our</th>\n",
              "      <th>wf_over</th>\n",
              "      <th>wf_remove</th>\n",
              "      <th>wf_internet</th>\n",
              "      <th>wf_order</th>\n",
              "      <th>wf_mail</th>\n",
              "      <th>wf_receive</th>\n",
              "      <th>wf_will</th>\n",
              "      <th>wf_people</th>\n",
              "      <th>wf_report</th>\n",
              "      <th>wf_addresses</th>\n",
              "      <th>wf_free</th>\n",
              "      <th>wf_business</th>\n",
              "      <th>wf_email</th>\n",
              "      <th>wf_you</th>\n",
              "      <th>wf_credit</th>\n",
              "      <th>wf_your</th>\n",
              "      <th>wf_font</th>\n",
              "      <th>wf_000</th>\n",
              "      <th>wf_money</th>\n",
              "      <th>wf_hp</th>\n",
              "      <th>wf_hpl</th>\n",
              "      <th>wf_george</th>\n",
              "      <th>wf_650</th>\n",
              "      <th>wf_lab</th>\n",
              "      <th>wf_labs</th>\n",
              "      <th>wf_telnet</th>\n",
              "      <th>wf_857</th>\n",
              "      <th>wf_data</th>\n",
              "      <th>wf_415</th>\n",
              "      <th>wf_85</th>\n",
              "      <th>wf_technology</th>\n",
              "      <th>wf_1999</th>\n",
              "      <th>wf_parts</th>\n",
              "      <th>wf_pm</th>\n",
              "      <th>wf_direct</th>\n",
              "      <th>wf_cs</th>\n",
              "      <th>wf_meeting</th>\n",
              "      <th>wf_original</th>\n",
              "      <th>wf_project</th>\n",
              "      <th>wf_re</th>\n",
              "      <th>wf_edu</th>\n",
              "      <th>wf_table</th>\n",
              "      <th>wf_conference</th>\n",
              "      <th>cf_;</th>\n",
              "      <th>cf_(</th>\n",
              "      <th>cf_[</th>\n",
              "      <th>cf_!</th>\n",
              "      <th>cf_$</th>\n",
              "      <th>cf_#</th>\n",
              "      <th>cap_rl_average</th>\n",
              "      <th>cap_rl_longest</th>\n",
              "      <th>cap_rl_total</th>\n",
              "      <th>is_spam</th>\n",
              "    </tr>\n",
              "    <tr>\n",
              "      <th>is_spam_label</th>\n",
              "      <th></th>\n",
              "      <th></th>\n",
              "      <th></th>\n",
              "      <th></th>\n",
              "      <th></th>\n",
              "      <th></th>\n",
              "      <th></th>\n",
              "      <th></th>\n",
              "      <th></th>\n",
              "      <th></th>\n",
              "      <th></th>\n",
              "      <th></th>\n",
              "      <th></th>\n",
              "      <th></th>\n",
              "      <th></th>\n",
              "      <th></th>\n",
              "      <th></th>\n",
              "      <th></th>\n",
              "      <th></th>\n",
              "      <th></th>\n",
              "      <th></th>\n",
              "      <th></th>\n",
              "      <th></th>\n",
              "      <th></th>\n",
              "      <th></th>\n",
              "      <th></th>\n",
              "      <th></th>\n",
              "      <th></th>\n",
              "      <th></th>\n",
              "      <th></th>\n",
              "      <th></th>\n",
              "      <th></th>\n",
              "      <th></th>\n",
              "      <th></th>\n",
              "      <th></th>\n",
              "      <th></th>\n",
              "      <th></th>\n",
              "      <th></th>\n",
              "      <th></th>\n",
              "      <th></th>\n",
              "      <th></th>\n",
              "      <th></th>\n",
              "      <th></th>\n",
              "      <th></th>\n",
              "      <th></th>\n",
              "      <th></th>\n",
              "      <th></th>\n",
              "      <th></th>\n",
              "      <th></th>\n",
              "      <th></th>\n",
              "      <th></th>\n",
              "      <th></th>\n",
              "      <th></th>\n",
              "      <th></th>\n",
              "      <th></th>\n",
              "      <th></th>\n",
              "      <th></th>\n",
              "      <th></th>\n",
              "    </tr>\n",
              "  </thead>\n",
              "  <tbody>\n",
              "    <tr>\n",
              "      <th>mail</th>\n",
              "      <td>0.073479</td>\n",
              "      <td>0.244466</td>\n",
              "      <td>0.200581</td>\n",
              "      <td>0.000886</td>\n",
              "      <td>0.181040</td>\n",
              "      <td>0.044544</td>\n",
              "      <td>0.009383</td>\n",
              "      <td>0.038415</td>\n",
              "      <td>0.038049</td>\n",
              "      <td>0.167170</td>\n",
              "      <td>0.021711</td>\n",
              "      <td>0.536324</td>\n",
              "      <td>0.061664</td>\n",
              "      <td>0.042403</td>\n",
              "      <td>0.008318</td>\n",
              "      <td>0.073587</td>\n",
              "      <td>0.048346</td>\n",
              "      <td>0.097292</td>\n",
              "      <td>1.270341</td>\n",
              "      <td>0.007579</td>\n",
              "      <td>0.438702</td>\n",
              "      <td>0.045226</td>\n",
              "      <td>0.007088</td>\n",
              "      <td>0.017138</td>\n",
              "      <td>0.895473</td>\n",
              "      <td>0.431994</td>\n",
              "      <td>1.265265</td>\n",
              "      <td>0.193806</td>\n",
              "      <td>0.162794</td>\n",
              "      <td>0.165854</td>\n",
              "      <td>0.106033</td>\n",
              "      <td>0.077306</td>\n",
              "      <td>0.150986</td>\n",
              "      <td>0.077787</td>\n",
              "      <td>0.169455</td>\n",
              "      <td>0.141671</td>\n",
              "      <td>0.197744</td>\n",
              "      <td>0.018723</td>\n",
              "      <td>0.121679</td>\n",
              "      <td>0.083117</td>\n",
              "      <td>0.072027</td>\n",
              "      <td>0.216808</td>\n",
              "      <td>0.070581</td>\n",
              "      <td>0.126636</td>\n",
              "      <td>0.415760</td>\n",
              "      <td>0.287184</td>\n",
              "      <td>0.008192</td>\n",
              "      <td>0.051227</td>\n",
              "      <td>0.050281</td>\n",
              "      <td>0.158578</td>\n",
              "      <td>0.022684</td>\n",
              "      <td>0.109984</td>\n",
              "      <td>0.011648</td>\n",
              "      <td>0.021713</td>\n",
              "      <td>2.377301</td>\n",
              "      <td>18.214491</td>\n",
              "      <td>161.470947</td>\n",
              "      <td>0.0</td>\n",
              "    </tr>\n",
              "    <tr>\n",
              "      <th>spam</th>\n",
              "      <td>0.152339</td>\n",
              "      <td>0.164650</td>\n",
              "      <td>0.403795</td>\n",
              "      <td>0.164672</td>\n",
              "      <td>0.513955</td>\n",
              "      <td>0.174876</td>\n",
              "      <td>0.275405</td>\n",
              "      <td>0.208141</td>\n",
              "      <td>0.170061</td>\n",
              "      <td>0.350507</td>\n",
              "      <td>0.118434</td>\n",
              "      <td>0.549972</td>\n",
              "      <td>0.143547</td>\n",
              "      <td>0.083574</td>\n",
              "      <td>0.112079</td>\n",
              "      <td>0.518362</td>\n",
              "      <td>0.287507</td>\n",
              "      <td>0.319228</td>\n",
              "      <td>2.264539</td>\n",
              "      <td>0.205521</td>\n",
              "      <td>1.380370</td>\n",
              "      <td>0.238036</td>\n",
              "      <td>0.247055</td>\n",
              "      <td>0.212879</td>\n",
              "      <td>0.017479</td>\n",
              "      <td>0.009173</td>\n",
              "      <td>0.001550</td>\n",
              "      <td>0.018798</td>\n",
              "      <td>0.000684</td>\n",
              "      <td>0.005968</td>\n",
              "      <td>0.001274</td>\n",
              "      <td>0.000518</td>\n",
              "      <td>0.014562</td>\n",
              "      <td>0.001776</td>\n",
              "      <td>0.006928</td>\n",
              "      <td>0.029515</td>\n",
              "      <td>0.043469</td>\n",
              "      <td>0.004710</td>\n",
              "      <td>0.012427</td>\n",
              "      <td>0.036718</td>\n",
              "      <td>0.000055</td>\n",
              "      <td>0.002443</td>\n",
              "      <td>0.008450</td>\n",
              "      <td>0.006244</td>\n",
              "      <td>0.125091</td>\n",
              "      <td>0.014727</td>\n",
              "      <td>0.001219</td>\n",
              "      <td>0.002101</td>\n",
              "      <td>0.020573</td>\n",
              "      <td>0.108970</td>\n",
              "      <td>0.008199</td>\n",
              "      <td>0.513713</td>\n",
              "      <td>0.174478</td>\n",
              "      <td>0.078877</td>\n",
              "      <td>9.519165</td>\n",
              "      <td>104.393271</td>\n",
              "      <td>470.619415</td>\n",
              "      <td>1.0</td>\n",
              "    </tr>\n",
              "  </tbody>\n",
              "</table>\n",
              "</div>"
            ],
            "text/plain": [
              "                wf_make  wf_address  ...  cap_rl_total  is_spam\n",
              "is_spam_label                        ...                       \n",
              "mail           0.073479    0.244466  ...    161.470947      0.0\n",
              "spam           0.152339    0.164650  ...    470.619415      1.0\n",
              "\n",
              "[2 rows x 58 columns]"
            ]
          },
          "metadata": {
            "tags": []
          },
          "execution_count": 18
        }
      ]
    },
    {
      "cell_type": "code",
      "metadata": {
        "colab": {
          "base_uri": "https://localhost:8080/",
          "height": 688
        },
        "id": "6dkgmWf-ZgQt",
        "outputId": "42d0511a-37bb-4db9-e875-65fe18f9d265"
      },
      "source": [
        "# On sépare les données en deux graphiques, pour que cela reste lisible\r\n",
        "plot_bar_compare_isspam('Moyennes des fréquences des mots en fonction de la classe du texte', df_means, word_frequency_columns[0:24])\r\n",
        "plot_bar_compare_isspam('Moyennes des fréquences des mots en fonction de la classe du texte', df_means, word_frequency_columns[24:48])"
      ],
      "execution_count": 19,
      "outputs": [
        {
          "output_type": "display_data",
          "data": {
            "text/plain": [
              "<Figure size 1080x1440 with 0 Axes>"
            ]
          },
          "metadata": {
            "tags": []
          }
        },
        {
          "output_type": "display_data",
          "data": {
            "image/png": "[encoded data removed]",
            "text/plain": [
              "<Figure size 2016x360 with 1 Axes>"
            ]
          },
          "metadata": {
            "tags": [],
            "needs_background": "light"
          }
        },
        {
          "output_type": "display_data",
          "data": {
            "text/plain": [
              "<Figure size 1080x1440 with 0 Axes>"
            ]
          },
          "metadata": {
            "tags": []
          }
        },
        {
          "output_type": "display_data",
          "data": {
            "image/png": "[encoded data removed]",
            "text/plain": [
              "<Figure size 2016x360 with 1 Axes>"
            ]
          },
          "metadata": {
            "tags": [],
            "needs_background": "light"
          }
        }
      ]
    },
    {
      "cell_type": "markdown",
      "metadata": {
        "id": "-nbmTcD2azhj"
      },
      "source": [
        "Afin de mieux visualiser la fréquence des mots, on va maintenant afficher les valeurs de manière ordonnée, sous forme de deux graphiques: le premier contiendra les mots ayant une plus forte fréquence dans les mails que dans les spams, et inversement pour le deuxième."
      ]
    },
    {
      "cell_type": "code",
      "metadata": {
        "id": "tmNtdXU-QVzv"
      },
      "source": [
        "# Récupération des valeurs moyennes de chaque colonne\r\n",
        "df_means = dfData.groupby('is_spam_label').mean()\r\n",
        "\r\n",
        "# Récupération des colonnes de fréquence de mots les plus hautes pour chaque classe is_spam\r\n",
        "mail_greater_wf_columns = []\r\n",
        "spam_greater_wf_columns = []\r\n",
        "\r\n",
        "for column in word_frequency_columns:\r\n",
        "  if (df_means[column]['mail'] > df_means[column]['spam']):\r\n",
        "    mail_greater_wf_columns.append(column)\r\n",
        "  else:\r\n",
        "    spam_greater_wf_columns.append(column)"
      ],
      "execution_count": 20,
      "outputs": []
    },
    {
      "cell_type": "code",
      "metadata": {
        "colab": {
          "base_uri": "https://localhost:8080/",
          "height": 645
        },
        "id": "X6zZXRdyT97u",
        "outputId": "02818a26-69ca-4e22-fccd-89cd779a4f75"
      },
      "source": [
        "# Récupération des valeurs pour chaque classe\r\n",
        "mail_greater_wf = df_means.loc['mail', mail_greater_wf_columns].sort_values(ascending=False)\r\n",
        "spam_greater_wf = df_means.loc['spam', spam_greater_wf_columns].sort_values(ascending=False)\r\n",
        "\r\n",
        "plot_bar_compare_isspam('Moyennes des fréquences des mots en fonction de la classe du texte', df_means, mail_greater_wf.index)\r\n",
        "plot_bar_compare_isspam('Moyennes des fréquences des mots en fonction de la classe du texte', df_means, spam_greater_wf.index)"
      ],
      "execution_count": 21,
      "outputs": [
        {
          "output_type": "display_data",
          "data": {
            "text/plain": [
              "<Figure size 1080x1440 with 0 Axes>"
            ]
          },
          "metadata": {
            "tags": []
          }
        },
        {
          "output_type": "display_data",
          "data": {
            "image/png": "[encoded data removed]",
            "text/plain": [
              "<Figure size 2016x360 with 1 Axes>"
            ]
          },
          "metadata": {
            "tags": [],
            "needs_background": "light"
          }
        },
        {
          "output_type": "display_data",
          "data": {
            "text/plain": [
              "<Figure size 1080x1440 with 0 Axes>"
            ]
          },
          "metadata": {
            "tags": []
          }
        },
        {
          "output_type": "display_data",
          "data": {
            "image/png": "[encoded data removed]",
            "text/plain": [
              "<Figure size 2016x360 with 1 Axes>"
            ]
          },
          "metadata": {
            "tags": [],
            "needs_background": "light"
          }
        }
      ]
    },
    {
      "cell_type": "markdown",
      "metadata": {
        "id": "h_HeKq2NNq5N"
      },
      "source": [
        "## Analyse des graphiques des moyennes\r\n",
        "\r\n",
        "\r\n",
        "\r\n",
        "\r\n"
      ]
    },
    {
      "cell_type": "markdown",
      "metadata": {
        "id": "c-x_4NyeLvaE"
      },
      "source": [
        "### Les fréquences de mot dans les mails"
      ]
    },
    {
      "cell_type": "code",
      "metadata": {
        "colab": {
          "base_uri": "https://localhost:8080/",
          "height": 331
        },
        "id": "uhWuQFZ9Lgh6",
        "outputId": "64cf4832-d4a9-4670-f9c1-029ae9f9706b"
      },
      "source": [
        "plot_bar_compare_isspam('Fréquence moyenne des mots en fonction de la classe du texte', df_means, mail_greater_wf.index)"
      ],
      "execution_count": 22,
      "outputs": [
        {
          "output_type": "display_data",
          "data": {
            "text/plain": [
              "<Figure size 1080x1440 with 0 Axes>"
            ]
          },
          "metadata": {
            "tags": []
          }
        },
        {
          "output_type": "display_data",
          "data": {
            "image/png": "[encoded data removed]",
            "text/plain": [
              "<Figure size 2016x360 with 1 Axes>"
            ]
          },
          "metadata": {
            "tags": [],
            "needs_background": "light"
          }
        }
      ]
    },
    {
      "cell_type": "markdown",
      "metadata": {
        "id": "IUdFoZQbLSuj"
      },
      "source": [
        "#### Les fréquences les plus importantes\r\n",
        "Sur le premier graphique, celui contenant les fréquences de mot apparaissant dans les mails plus souvent que dans les spams, on peut trouver le mot \"george\" en tête de liste. Cela n'a rien d'étonnant, vu que dans la description du dataset, on retrouve ces deux lignes:\r\n",
        "\r\n",
        "***Donor: George Forman (gforman at nospam hpl.hp.com) 650-857-7835***\r\n",
        "\r\n",
        "***Our collection of non-spam e-mails came from filed work and personal e-mails, and hence the word 'george' and the area code '650' are indicators of non-spam.***\r\n",
        "\r\n",
        "Le prénom reste une information personnelle, que les spammeurs n'ont pas forcément la possibilité de récupérer à partir d'une simple adresse email. Aujourd'hui, c'est parfois plus facile quand des bases de données hackées sont accessibles de récupérer des adresses mails avec des informations personnelles liées à celle-ci. Mais ce dataset datant de 1999, je me dis qu'il y en avait certainement moins qu'aujourd'hui, vu que l'on ne récupérait pas autant d'informations sur les personnes auparavant.\r\n",
        "\r\n",
        "On voit aussi que les noms de domaine \"hp\" et \"hpl\" viennent tout juste après \"george\": cela reste des informations qui ne sont pas forcément utiles pour un spammeur, d'où leurs fréquences quasi-nulle dans les spams.\r\n",
        "\r\n",
        "#### Le mot \"re\"\r\n",
        "Le mot \"re\" suit de très près la troisisème plus grande fréquence, et il est intéressant de s'épancher un peu plus sur son cas. Je présume que celui-ci était déjà utilisé en 1999 dans les titres de message, tel que, par exemple \"RE: info meeting\", signifiant une réponse au précédent mail nommé \"info meeting\". Le dataset réunissant des mails personnels et professionnels, ce n'est pas étonnant de le voir apparaître. \r\n",
        "\r\n",
        "Par contre, on peut voir que ce dernier apparaît en moyenne 0.1% de fois par spam. Aujourd'hui, une méthode utilisée par les spammeurs est d'utiliser le terme \"RE: ...\" dans le titre pour inciter la cible à ouvrir celui-ci, comme si cette dernière avait déjà participé à cette conversation. On trouve parfois le mot \"RE\" dans les filtres de spam d'ailleurs. Il est donc probable qu'en 1999, certains spammeurs ont tenté d'utiliser cette technique eux aussi.\r\n",
        "\r\n",
        "#### Le mot \"address\"\r\n",
        "Ce qui est intéressant ici est que la fréquence du mot \"address\" reste plutôt proche entre le mail et le spam. C'est une information qui peut être demandé au travail ou par des proches, mais aussi par des spammeurs qui auraient besoin d'une adresse pour envoyer de la pub papier à la cible. Pour ce dataset, il ne serait donc pas effectif si l'on devait créer un filtre de spam. \r\n",
        "\r\n",
        "\r\n",
        "#### Les autres mots\r\n",
        "Le reste de mots sont constitués pour la plupart de chiffres et de termes professionnels (meeting, labs, conference...) et la fréquence dans les spams est quasi-nulle, ce qui ne semble pas étonnant."
      ]
    },
    {
      "cell_type": "markdown",
      "metadata": {
        "id": "MNkyBEfALqDw"
      },
      "source": [
        "### Les fréquences de mot dans les spams"
      ]
    },
    {
      "cell_type": "code",
      "metadata": {
        "colab": {
          "base_uri": "https://localhost:8080/",
          "height": 331
        },
        "id": "-Oz5_nAQLnQo",
        "outputId": "ed1acc39-a00d-4341-ee12-a0f7d86e0df0"
      },
      "source": [
        "plot_bar_compare_isspam('Fréquence moyenne des mots en fonction de la classe du texte', df_means, spam_greater_wf.index)"
      ],
      "execution_count": 23,
      "outputs": [
        {
          "output_type": "display_data",
          "data": {
            "text/plain": [
              "<Figure size 1080x1440 with 0 Axes>"
            ]
          },
          "metadata": {
            "tags": []
          }
        },
        {
          "output_type": "display_data",
          "data": {
            "image/png": "[encoded data removed]",
            "text/plain": [
              "<Figure size 2016x360 with 1 Axes>"
            ]
          },
          "metadata": {
            "tags": [],
            "needs_background": "light"
          }
        }
      ]
    },
    {
      "cell_type": "markdown",
      "metadata": {
        "id": "kFog8GAWLa0B"
      },
      "source": [
        "\r\n",
        "#### Les mots les plus communs en anglais\r\n",
        "Avant d'étudier plus en profondeur, il y a une certaine catégorie de mots sur ce deuxième graphique à prendre avec précautions: les mots communs en anglais. De nombreuses listes de vocabulaire sont existantes pour chaque langue, regroupant souvent les 100 à 500 mots les plus fréquents à l'écrit dans celle-ci. Vous pouvez d'ailleurs en retrouver plusieurs ici, basées sur différentes sources : https://en.wikipedia.org/wiki/Most_common_words_in_English. \r\n",
        "\r\n",
        "Si l'on s'en réfère à ces listes, on peut identifier certains mots appartenant à celles-ci dans notre graphique:\r\n",
        "- you\r\n",
        "- your\r\n",
        "- will\r\n",
        "- our\r\n",
        "- all\r\n",
        "- over\r\n",
        "- make\r\n",
        "- people\r\n",
        "\r\n",
        "De ce fait, même si ces derniers apparaissent plus souvent dans les spams que dans les mails de ce dataset, il ne faut pas oublier qu'il reste fréquent en anglais écrit. De plus, n'ayant pas le nombre de caractères total pour chaque mail, les fréquences sont aussi à prendre avec des pincettes.\r\n",
        "\r\n",
        "#### Les mots commerciaux\r\n",
        "En mettant de côté les mots communs vus précédemment, on peut dégager un second groupe: les mots commerciaux. \r\n",
        "On retrouve en effet les mots \"free\", \"business\", \"money\", \"credit\", \"order\" et \"receive\". On peut en dégager deux types de technique de spam:\r\n",
        "- Parler d'un produit/commande gagné ou gratuit pour le correspondant (free, receive, order)\r\n",
        "- Parler d'une affaire juteuse, qui pourrait rapporter de l'argent facilement (business, money, credit)\r\n",
        "Il n'est donc pas étonnant de voir le mot gratuit (free) en première place des fréquences (si l'on écarte les mots communs devant lui), qui attire toujours le lecteur du message."
      ]
    },
    {
      "cell_type": "markdown",
      "metadata": {
        "id": "cz11LWWmMote"
      },
      "source": [
        "## Sélection des attributs significatifs"
      ]
    },
    {
      "cell_type": "markdown",
      "metadata": {
        "id": "OhJ_y-6pMvuG"
      },
      "source": [
        "Après analyse, on va maintenant pouvoir déterminer quels sont les attributs les plus significatifs. \r\n",
        "On va sélectionner ceux qui semblent apparaître les plus souvents dans les mails et qui ont une différence notable de fréquence entre mail et spam.\r\n",
        "\r\n",
        "**Pour les mails:**\r\n",
        "- george\r\n",
        "- hp\r\n",
        "- hpl\r\n",
        "- edu\r\n",
        "- meeting\r\n",
        "\r\n",
        "**Pour les spams:**\r\n",
        "- free"
      ]
    },
    {
      "cell_type": "markdown",
      "metadata": {
        "id": "V8apwoUDO4xT"
      },
      "source": [
        "Cependant, nous allons devoir regarder de plus près certains mots, la moyenne ne suffisant pas pour se prononcer. Nous allons nous intéresser aux quartiles et médiannes des mots suivants, pour déterminer s'ils seront intéressant pour détecter un mail d'un spam:\r\n",
        "- re\r\n",
        "- you\r\n",
        "- your\r\n",
        "- our\r\n",
        "- all"
      ]
    },
    {
      "cell_type": "markdown",
      "metadata": {
        "id": "hn3nJ5gvMTyQ"
      },
      "source": [
        "## Comparaison en détails des attributs pouvant se révéler être significatifs"
      ]
    },
    {
      "cell_type": "markdown",
      "metadata": {
        "id": "YL3BxjZvMgHO"
      },
      "source": [
        "Afin d'obtenir les valeurs qui nous intéresse, nous allons dresser des boites à moustache pour chaque mot sélectionné:\r\n",
        "- re\r\n",
        "- you\r\n",
        "- your\r\n",
        "- our\r\n",
        "- all"
      ]
    },
    {
      "cell_type": "code",
      "metadata": {
        "id": "h8maAovsUtrc"
      },
      "source": [
        "# Fonction d'affichage d'une boîte à moustache pour un mot donné du dataset\r\n",
        "def plot_box_compare_isspam(word, df, showfliers):\r\n",
        "    plt.figure(figsize=(2,8))\r\n",
        "    fig, ax = plt.subplots()\r\n",
        "\r\n",
        "    sns.boxplot(x='is_spam_label', y='wf_'+ word, hue='is_spam_label',\r\n",
        "                 data=df, palette=\"Set3\", showfliers = showfliers)\r\n",
        "    ax.set_ylabel('Fréquence')\r\n",
        "    ax.set_xlabel(word)\r\n",
        "    ax.set_title('Boîte à moustache pour la fréquence du mot \"' + word + '\"')\r\n",
        "    ax.legend()\r\n",
        "\r\n",
        "    plt.show()"
      ],
      "execution_count": 24,
      "outputs": []
    },
    {
      "cell_type": "code",
      "metadata": {
        "colab": {
          "base_uri": "https://localhost:8080/",
          "height": 1000
        },
        "id": "hFp1BQmSVOk0",
        "outputId": "569b6520-3377-4f87-950d-c4828cc0e560"
      },
      "source": [
        "# Récupération des mots à étudier\r\n",
        "selected_words = ['re', 'you', 'your', 'our', 'all']\r\n",
        "\r\n",
        "# Affichage des boîtes à moustache\r\n",
        "for word in selected_words:\r\n",
        "  plot_box_compare_isspam(word, dfData, True)\r\n"
      ],
      "execution_count": 25,
      "outputs": [
        {
          "output_type": "display_data",
          "data": {
            "text/plain": [
              "<Figure size 144x576 with 0 Axes>"
            ]
          },
          "metadata": {
            "tags": []
          }
        },
        {
          "output_type": "display_data",
          "data": {
            "image/png": "[encoded data removed]",
            "text/plain": [
              "<Figure size 432x288 with 1 Axes>"
            ]
          },
          "metadata": {
            "tags": [],
            "needs_background": "light"
          }
        },
        {
          "output_type": "display_data",
          "data": {
            "text/plain": [
              "<Figure size 144x576 with 0 Axes>"
            ]
          },
          "metadata": {
            "tags": []
          }
        },
        {
          "output_type": "display_data",
          "data": {
            "image/png": "[encoded data removed]",
            "text/plain": [
              "<Figure size 432x288 with 1 Axes>"
            ]
          },
          "metadata": {
            "tags": [],
            "needs_background": "light"
          }
        },
        {
          "output_type": "display_data",
          "data": {
            "text/plain": [
              "<Figure size 144x576 with 0 Axes>"
            ]
          },
          "metadata": {
            "tags": []
          }
        },
        {
          "output_type": "display_data",
          "data": {
            "image/png": "[encoded data removed]",
            "text/plain": [
              "<Figure size 432x288 with 1 Axes>"
            ]
          },
          "metadata": {
            "tags": [],
            "needs_background": "light"
          }
        },
        {
          "output_type": "display_data",
          "data": {
            "text/plain": [
              "<Figure size 144x576 with 0 Axes>"
            ]
          },
          "metadata": {
            "tags": []
          }
        },
        {
          "output_type": "display_data",
          "data": {
            "image/png": "[encoded data removed]",
            "text/plain": [
              "<Figure size 432x288 with 1 Axes>"
            ]
          },
          "metadata": {
            "tags": [],
            "needs_background": "light"
          }
        },
        {
          "output_type": "display_data",
          "data": {
            "text/plain": [
              "<Figure size 144x576 with 0 Axes>"
            ]
          },
          "metadata": {
            "tags": []
          }
        },
        {
          "output_type": "display_data",
          "data": {
            "image/png": "[encoded data removed]",
            "text/plain": [
              "<Figure size 432x288 with 1 Axes>"
            ]
          },
          "metadata": {
            "tags": [],
            "needs_background": "light"
          }
        }
      ]
    },
    {
      "cell_type": "markdown",
      "metadata": {
        "id": "FC0tOpVGaVnw"
      },
      "source": [
        "Les boîtes étant illisibles à cause de la taille, nous allons les voir une par une. \r\n",
        "\r\n",
        "Nous allons avant changer notre fonction d'affichage, pour pouvoir afficher les graphiques avec ou sans les valeurs extérieures."
      ]
    },
    {
      "cell_type": "code",
      "metadata": {
        "id": "A52NTv8TfaO6"
      },
      "source": [
        "# Fonction d'affichage d'une boîte à moustache pour un mot donné du dataset\r\n",
        "def plot_box_compare_isspam_vertical(word, df, showfliers):\r\n",
        "    plt.figure(figsize=(25,5))\r\n",
        "    sns.boxplot(x='wf_'+ word, y='is_spam_label', hue='is_spam_label',\r\n",
        "                 data=df, palette=\"Set3\", showfliers = showfliers)\r\n",
        "    plt.ylabel(word)\r\n",
        "    plt.xlabel('Fréquence')\r\n",
        "    # Définition du titre\r\n",
        "    title = 'Boîte à moustache pour la fréquence du mot \"' + word + '\"'\r\n",
        "    if (showfliers):\r\n",
        "      title += ' - avec valeurs extérieures'\r\n",
        "    else:\r\n",
        "      title += ' - sans valeurs extérieures'\r\n",
        "      \r\n",
        "    plt.title(title)"
      ],
      "execution_count": 26,
      "outputs": []
    },
    {
      "cell_type": "markdown",
      "metadata": {
        "id": "nCXeMNeQcZtg"
      },
      "source": [
        "### Etude du mot \"re\"\r\n"
      ]
    },
    {
      "cell_type": "code",
      "metadata": {
        "colab": {
          "base_uri": "https://localhost:8080/",
          "height": 683
        },
        "id": "1C2ibUZRceOP",
        "outputId": "4fffbe13-ca00-4109-c9c2-f3d39075bdb9"
      },
      "source": [
        "# Affichage avec et sans les valeurs extérieures\r\n",
        "plot_box_compare_isspam_vertical('re', dfData, True)\r\n",
        "plot_box_compare_isspam_vertical('re', dfData, False)"
      ],
      "execution_count": 27,
      "outputs": [
        {
          "output_type": "display_data",
          "data": {
            "image/png": "[encoded data removed]",
            "text/plain": [
              "<Figure size 1800x360 with 1 Axes>"
            ]
          },
          "metadata": {
            "tags": [],
            "needs_background": "light"
          }
        },
        {
          "output_type": "display_data",
          "data": {
            "image/png": "[encoded data removed]",
            "text/plain": [
              "<Figure size 1800x360 with 1 Axes>"
            ]
          },
          "metadata": {
            "tags": [],
            "needs_background": "light"
          }
        }
      ]
    },
    {
      "cell_type": "code",
      "metadata": {
        "colab": {
          "base_uri": "https://localhost:8080/",
          "height": 173
        },
        "id": "6Vu37FN5iGxG",
        "outputId": "0bc93271-cfa0-41e2-ff73-e9856625d109"
      },
      "source": [
        "# Affichage sous forme de tableau\r\n",
        "dfData[['wf_re', 'is_spam_label']].groupby('is_spam_label').describe()"
      ],
      "execution_count": 28,
      "outputs": [
        {
          "output_type": "execute_result",
          "data": {
            "text/html": [
              "<div>\n",
              "<style scoped>\n",
              "    .dataframe tbody tr th:only-of-type {\n",
              "        vertical-align: middle;\n",
              "    }\n",
              "\n",
              "    .dataframe tbody tr th {\n",
              "        vertical-align: top;\n",
              "    }\n",
              "\n",
              "    .dataframe thead tr th {\n",
              "        text-align: left;\n",
              "    }\n",
              "\n",
              "    .dataframe thead tr:last-of-type th {\n",
              "        text-align: right;\n",
              "    }\n",
              "</style>\n",
              "<table border=\"1\" class=\"dataframe\">\n",
              "  <thead>\n",
              "    <tr>\n",
              "      <th></th>\n",
              "      <th colspan=\"8\" halign=\"left\">wf_re</th>\n",
              "    </tr>\n",
              "    <tr>\n",
              "      <th></th>\n",
              "      <th>count</th>\n",
              "      <th>mean</th>\n",
              "      <th>std</th>\n",
              "      <th>min</th>\n",
              "      <th>25%</th>\n",
              "      <th>50%</th>\n",
              "      <th>75%</th>\n",
              "      <th>max</th>\n",
              "    </tr>\n",
              "    <tr>\n",
              "      <th>is_spam_label</th>\n",
              "      <th></th>\n",
              "      <th></th>\n",
              "      <th></th>\n",
              "      <th></th>\n",
              "      <th></th>\n",
              "      <th></th>\n",
              "      <th></th>\n",
              "      <th></th>\n",
              "    </tr>\n",
              "  </thead>\n",
              "  <tbody>\n",
              "    <tr>\n",
              "      <th>mail</th>\n",
              "      <td>2788.0</td>\n",
              "      <td>0.415760</td>\n",
              "      <td>1.260273</td>\n",
              "      <td>0.0</td>\n",
              "      <td>0.0</td>\n",
              "      <td>0.0</td>\n",
              "      <td>0.3125</td>\n",
              "      <td>21.42</td>\n",
              "    </tr>\n",
              "    <tr>\n",
              "      <th>spam</th>\n",
              "      <td>1813.0</td>\n",
              "      <td>0.125091</td>\n",
              "      <td>0.322770</td>\n",
              "      <td>0.0</td>\n",
              "      <td>0.0</td>\n",
              "      <td>0.0</td>\n",
              "      <td>0.0500</td>\n",
              "      <td>5.55</td>\n",
              "    </tr>\n",
              "  </tbody>\n",
              "</table>\n",
              "</div>"
            ],
            "text/plain": [
              "                wf_re                                                  \n",
              "                count      mean       std  min  25%  50%     75%    max\n",
              "is_spam_label                                                          \n",
              "mail           2788.0  0.415760  1.260273  0.0  0.0  0.0  0.3125  21.42\n",
              "spam           1813.0  0.125091  0.322770  0.0  0.0  0.0  0.0500   5.55"
            ]
          },
          "metadata": {
            "tags": []
          },
          "execution_count": 28
        }
      ]
    },
    {
      "cell_type": "markdown",
      "metadata": {
        "id": "0eC2NWsgh1J-"
      },
      "source": [
        "On peut conclure que le mot \"re\" est révélateur du mail. Plus de 25% des fréquences de la classe mail sont supérieures à 0.3125, tandis que celles de la classe spam sont supérieures à 0.0500.  "
      ]
    },
    {
      "cell_type": "markdown",
      "metadata": {
        "id": "C9-L84pYcMg2"
      },
      "source": [
        "### Etude du mot \"you\"\r\n"
      ]
    },
    {
      "cell_type": "code",
      "metadata": {
        "colab": {
          "base_uri": "https://localhost:8080/",
          "height": 683
        },
        "id": "stgL4pimjARA",
        "outputId": "922a8db7-224a-4e14-a8e2-9e31309c8eb7"
      },
      "source": [
        "# Affichage avec et sans les valeurs extérieures\r\n",
        "plot_box_compare_isspam_vertical('you', dfData, True)\r\n",
        "plot_box_compare_isspam_vertical('you', dfData, False)"
      ],
      "execution_count": 29,
      "outputs": [
        {
          "output_type": "display_data",
          "data": {
            "image/png": "[encoded data removed]",
            "text/plain": [
              "<Figure size 1800x360 with 1 Axes>"
            ]
          },
          "metadata": {
            "tags": [],
            "needs_background": "light"
          }
        },
        {
          "output_type": "display_data",
          "data": {
            "image/png": "[encoded data removed]",
            "text/plain": [
              "<Figure size 1800x360 with 1 Axes>"
            ]
          },
          "metadata": {
            "tags": [],
            "needs_background": "light"
          }
        }
      ]
    },
    {
      "cell_type": "code",
      "metadata": {
        "colab": {
          "base_uri": "https://localhost:8080/",
          "height": 173
        },
        "id": "BH26WkPrbgVV",
        "outputId": "88088e7b-4e95-4253-dc24-605d788a594d"
      },
      "source": [
        "# Affichage sous forme de tableau\r\n",
        "dfData[['wf_you', 'is_spam_label']].groupby('is_spam_label').describe()"
      ],
      "execution_count": 30,
      "outputs": [
        {
          "output_type": "execute_result",
          "data": {
            "text/html": [
              "<div>\n",
              "<style scoped>\n",
              "    .dataframe tbody tr th:only-of-type {\n",
              "        vertical-align: middle;\n",
              "    }\n",
              "\n",
              "    .dataframe tbody tr th {\n",
              "        vertical-align: top;\n",
              "    }\n",
              "\n",
              "    .dataframe thead tr th {\n",
              "        text-align: left;\n",
              "    }\n",
              "\n",
              "    .dataframe thead tr:last-of-type th {\n",
              "        text-align: right;\n",
              "    }\n",
              "</style>\n",
              "<table border=\"1\" class=\"dataframe\">\n",
              "  <thead>\n",
              "    <tr>\n",
              "      <th></th>\n",
              "      <th colspan=\"8\" halign=\"left\">wf_you</th>\n",
              "    </tr>\n",
              "    <tr>\n",
              "      <th></th>\n",
              "      <th>count</th>\n",
              "      <th>mean</th>\n",
              "      <th>std</th>\n",
              "      <th>min</th>\n",
              "      <th>25%</th>\n",
              "      <th>50%</th>\n",
              "      <th>75%</th>\n",
              "      <th>max</th>\n",
              "    </tr>\n",
              "    <tr>\n",
              "      <th>is_spam_label</th>\n",
              "      <th></th>\n",
              "      <th></th>\n",
              "      <th></th>\n",
              "      <th></th>\n",
              "      <th></th>\n",
              "      <th></th>\n",
              "      <th></th>\n",
              "      <th></th>\n",
              "    </tr>\n",
              "  </thead>\n",
              "  <tbody>\n",
              "    <tr>\n",
              "      <th>mail</th>\n",
              "      <td>2788.0</td>\n",
              "      <td>1.270341</td>\n",
              "      <td>1.793636</td>\n",
              "      <td>0.0</td>\n",
              "      <td>0.0</td>\n",
              "      <td>0.51</td>\n",
              "      <td>1.9925</td>\n",
              "      <td>18.75</td>\n",
              "    </tr>\n",
              "    <tr>\n",
              "      <th>spam</th>\n",
              "      <td>1813.0</td>\n",
              "      <td>2.264539</td>\n",
              "      <td>1.566885</td>\n",
              "      <td>0.0</td>\n",
              "      <td>1.2</td>\n",
              "      <td>2.18</td>\n",
              "      <td>3.2500</td>\n",
              "      <td>12.50</td>\n",
              "    </tr>\n",
              "  </tbody>\n",
              "</table>\n",
              "</div>"
            ],
            "text/plain": [
              "               wf_you                                                   \n",
              "                count      mean       std  min  25%   50%     75%    max\n",
              "is_spam_label                                                           \n",
              "mail           2788.0  1.270341  1.793636  0.0  0.0  0.51  1.9925  18.75\n",
              "spam           1813.0  2.264539  1.566885  0.0  1.2  2.18  3.2500  12.50"
            ]
          },
          "metadata": {
            "tags": []
          },
          "execution_count": 30
        }
      ]
    },
    {
      "cell_type": "markdown",
      "metadata": {
        "id": "ACZMSmgujLc0"
      },
      "source": [
        "Le mot \"you\" semble révélateur de spam. Il est important de souligner que l'étude de la moyenne seule ici n'aurait pas suffit. En effet, pour une moyenne à 1.27 dans la classe mail, 50% des valeurs sont tout de même inférieur à 0.51. Avec six valeurs extérieures supérieures à 10.0, notamment celle valant 18.75, la moyenne a été bien gonflée. \r\n",
        "\r\n",
        "Ainsi, on peut se dire qu'on a problablement de grandes chances d'avoir affaire à un spam lorsque la fréquence est supérieure à 2.18."
      ]
    },
    {
      "cell_type": "markdown",
      "metadata": {
        "id": "Ru7dfm75k6rJ"
      },
      "source": [
        "### Etude du mot \"your\" "
      ]
    },
    {
      "cell_type": "code",
      "metadata": {
        "colab": {
          "base_uri": "https://localhost:8080/",
          "height": 683
        },
        "id": "CFvXty94k8Sn",
        "outputId": "fb8ef417-1db8-417c-8740-86069dbdcc72"
      },
      "source": [
        "# Affichage avec et sans les valeurs extérieures\r\n",
        "plot_box_compare_isspam_vertical('your', dfData, True)\r\n",
        "plot_box_compare_isspam_vertical('your', dfData, False)"
      ],
      "execution_count": 31,
      "outputs": [
        {
          "output_type": "display_data",
          "data": {
            "image/png": "[encoded data removed]",
            "text/plain": [
              "<Figure size 1800x360 with 1 Axes>"
            ]
          },
          "metadata": {
            "tags": [],
            "needs_background": "light"
          }
        },
        {
          "output_type": "display_data",
          "data": {
            "image/png": "[encoded data removed]",
            "text/plain": [
              "<Figure size 1800x360 with 1 Axes>"
            ]
          },
          "metadata": {
            "tags": [],
            "needs_background": "light"
          }
        }
      ]
    },
    {
      "cell_type": "code",
      "metadata": {
        "colab": {
          "base_uri": "https://localhost:8080/",
          "height": 173
        },
        "id": "7uiZNVPTk-0a",
        "outputId": "1936a24e-59ea-4db0-e006-d662c009c946"
      },
      "source": [
        "# Affichage sous forme de tableau\r\n",
        "dfData[['wf_your', 'is_spam_label']].groupby('is_spam_label').describe()"
      ],
      "execution_count": 32,
      "outputs": [
        {
          "output_type": "execute_result",
          "data": {
            "text/html": [
              "<div>\n",
              "<style scoped>\n",
              "    .dataframe tbody tr th:only-of-type {\n",
              "        vertical-align: middle;\n",
              "    }\n",
              "\n",
              "    .dataframe tbody tr th {\n",
              "        vertical-align: top;\n",
              "    }\n",
              "\n",
              "    .dataframe thead tr th {\n",
              "        text-align: left;\n",
              "    }\n",
              "\n",
              "    .dataframe thead tr:last-of-type th {\n",
              "        text-align: right;\n",
              "    }\n",
              "</style>\n",
              "<table border=\"1\" class=\"dataframe\">\n",
              "  <thead>\n",
              "    <tr>\n",
              "      <th></th>\n",
              "      <th colspan=\"8\" halign=\"left\">wf_your</th>\n",
              "    </tr>\n",
              "    <tr>\n",
              "      <th></th>\n",
              "      <th>count</th>\n",
              "      <th>mean</th>\n",
              "      <th>std</th>\n",
              "      <th>min</th>\n",
              "      <th>25%</th>\n",
              "      <th>50%</th>\n",
              "      <th>75%</th>\n",
              "      <th>max</th>\n",
              "    </tr>\n",
              "    <tr>\n",
              "      <th>is_spam_label</th>\n",
              "      <th></th>\n",
              "      <th></th>\n",
              "      <th></th>\n",
              "      <th></th>\n",
              "      <th></th>\n",
              "      <th></th>\n",
              "      <th></th>\n",
              "      <th></th>\n",
              "    </tr>\n",
              "  </thead>\n",
              "  <tbody>\n",
              "    <tr>\n",
              "      <th>mail</th>\n",
              "      <td>2788.0</td>\n",
              "      <td>0.438702</td>\n",
              "      <td>1.025167</td>\n",
              "      <td>0.0</td>\n",
              "      <td>0.00</td>\n",
              "      <td>0.00</td>\n",
              "      <td>0.46</td>\n",
              "      <td>10.71</td>\n",
              "    </tr>\n",
              "    <tr>\n",
              "      <th>spam</th>\n",
              "      <td>1813.0</td>\n",
              "      <td>1.380370</td>\n",
              "      <td>1.227385</td>\n",
              "      <td>0.0</td>\n",
              "      <td>0.47</td>\n",
              "      <td>1.19</td>\n",
              "      <td>1.96</td>\n",
              "      <td>11.11</td>\n",
              "    </tr>\n",
              "  </tbody>\n",
              "</table>\n",
              "</div>"
            ],
            "text/plain": [
              "              wf_your                                                  \n",
              "                count      mean       std  min   25%   50%   75%    max\n",
              "is_spam_label                                                          \n",
              "mail           2788.0  0.438702  1.025167  0.0  0.00  0.00  0.46  10.71\n",
              "spam           1813.0  1.380370  1.227385  0.0  0.47  1.19  1.96  11.11"
            ]
          },
          "metadata": {
            "tags": []
          },
          "execution_count": 32
        }
      ]
    },
    {
      "cell_type": "markdown",
      "metadata": {
        "id": "TH37nHmClDZm"
      },
      "source": [
        "Ici aussi, nous avons un exemple flagrant d'une moyenne gonflée par quelques valeurs élevées. \r\n",
        "\r\n",
        "Pour une moyenne de 0.43 de la classe mail, on se retrouve avec plus de 75% des valeurs inférieures à 0.46, alors que plus de 25% des valeurs de la classe spam sont supérieures à 0.47. \r\n",
        "\r\n",
        "Le mot \"your\" est pour le moment, selon moi, un des meilleurs attributs utiles pour la détection entre les cinq mots étudiés."
      ]
    },
    {
      "cell_type": "markdown",
      "metadata": {
        "id": "YBz2JCyHmHC8"
      },
      "source": [
        "### Etude du mot \"our\""
      ]
    },
    {
      "cell_type": "code",
      "metadata": {
        "colab": {
          "base_uri": "https://localhost:8080/",
          "height": 683
        },
        "id": "tnsN_C23mJdm",
        "outputId": "a7d01c8a-5e2c-467d-db54-d52d0fa6a80a"
      },
      "source": [
        "# Affichage avec et sans les valeurs extérieures\r\n",
        "plot_box_compare_isspam_vertical('our', dfData, True)\r\n",
        "plot_box_compare_isspam_vertical('our', dfData, False)"
      ],
      "execution_count": 33,
      "outputs": [
        {
          "output_type": "display_data",
          "data": {
            "image/png": "[encoded data removed]",
            "text/plain": [
              "<Figure size 1800x360 with 1 Axes>"
            ]
          },
          "metadata": {
            "tags": [],
            "needs_background": "light"
          }
        },
        {
          "output_type": "display_data",
          "data": {
            "image/png": "[encoded data removed]",
            "text/plain": [
              "<Figure size 1800x360 with 1 Axes>"
            ]
          },
          "metadata": {
            "tags": [],
            "needs_background": "light"
          }
        }
      ]
    },
    {
      "cell_type": "code",
      "metadata": {
        "colab": {
          "base_uri": "https://localhost:8080/",
          "height": 173
        },
        "id": "UQPaUDEWmL7o",
        "outputId": "e0aafdd1-a6b1-4030-a0f6-113bdc1edd5d"
      },
      "source": [
        "# Affichage sous forme de tableau\r\n",
        "dfData[['wf_our', 'is_spam_label']].groupby('is_spam_label').describe()"
      ],
      "execution_count": 34,
      "outputs": [
        {
          "output_type": "execute_result",
          "data": {
            "text/html": [
              "<div>\n",
              "<style scoped>\n",
              "    .dataframe tbody tr th:only-of-type {\n",
              "        vertical-align: middle;\n",
              "    }\n",
              "\n",
              "    .dataframe tbody tr th {\n",
              "        vertical-align: top;\n",
              "    }\n",
              "\n",
              "    .dataframe thead tr th {\n",
              "        text-align: left;\n",
              "    }\n",
              "\n",
              "    .dataframe thead tr:last-of-type th {\n",
              "        text-align: right;\n",
              "    }\n",
              "</style>\n",
              "<table border=\"1\" class=\"dataframe\">\n",
              "  <thead>\n",
              "    <tr>\n",
              "      <th></th>\n",
              "      <th colspan=\"8\" halign=\"left\">wf_our</th>\n",
              "    </tr>\n",
              "    <tr>\n",
              "      <th></th>\n",
              "      <th>count</th>\n",
              "      <th>mean</th>\n",
              "      <th>std</th>\n",
              "      <th>min</th>\n",
              "      <th>25%</th>\n",
              "      <th>50%</th>\n",
              "      <th>75%</th>\n",
              "      <th>max</th>\n",
              "    </tr>\n",
              "    <tr>\n",
              "      <th>is_spam_label</th>\n",
              "      <th></th>\n",
              "      <th></th>\n",
              "      <th></th>\n",
              "      <th></th>\n",
              "      <th></th>\n",
              "      <th></th>\n",
              "      <th></th>\n",
              "      <th></th>\n",
              "    </tr>\n",
              "  </thead>\n",
              "  <tbody>\n",
              "    <tr>\n",
              "      <th>mail</th>\n",
              "      <td>2788.0</td>\n",
              "      <td>0.181040</td>\n",
              "      <td>0.614521</td>\n",
              "      <td>0.0</td>\n",
              "      <td>0.0</td>\n",
              "      <td>0.00</td>\n",
              "      <td>0.00</td>\n",
              "      <td>10.00</td>\n",
              "    </tr>\n",
              "    <tr>\n",
              "      <th>spam</th>\n",
              "      <td>1813.0</td>\n",
              "      <td>0.513955</td>\n",
              "      <td>0.707195</td>\n",
              "      <td>0.0</td>\n",
              "      <td>0.0</td>\n",
              "      <td>0.29</td>\n",
              "      <td>0.78</td>\n",
              "      <td>7.69</td>\n",
              "    </tr>\n",
              "  </tbody>\n",
              "</table>\n",
              "</div>"
            ],
            "text/plain": [
              "               wf_our                                                 \n",
              "                count      mean       std  min  25%   50%   75%    max\n",
              "is_spam_label                                                         \n",
              "mail           2788.0  0.181040  0.614521  0.0  0.0  0.00  0.00  10.00\n",
              "spam           1813.0  0.513955  0.707195  0.0  0.0  0.29  0.78   7.69"
            ]
          },
          "metadata": {
            "tags": []
          },
          "execution_count": 34
        }
      ]
    },
    {
      "cell_type": "markdown",
      "metadata": {
        "id": "waQsNBjJmOIx"
      },
      "source": [
        "L'étude du mot \"our\" se révèle très intéressant. Tandis qu'on aurait pu croire avec le graphique des moyennes des fréquences que le mot \"our\" était quand même assez présent dans les mails, on voit ici que plus de 75% des valeurs ont une fréquence égale à 0 pour les mails.\r\n",
        "\r\n",
        "Tandis que pour les spams, plus de la moitié des valeurs sont supérieures à 0.29 et un tiers des valeurs supérieures à 0.78. \r\n",
        "\r\n",
        "Avec le mot \"your\", \"our\" est définitivement intéressant."
      ]
    },
    {
      "cell_type": "markdown",
      "metadata": {
        "id": "iBu2gbNFmOom"
      },
      "source": [
        "### Etude du mot \"all\""
      ]
    },
    {
      "cell_type": "code",
      "metadata": {
        "colab": {
          "base_uri": "https://localhost:8080/",
          "height": 683
        },
        "id": "uw6UoaWMmU7e",
        "outputId": "e87c8cf7-ab9c-4f23-b416-18f4d34c91f4"
      },
      "source": [
        "# Affichage avec et sans les valeurs extérieures\r\n",
        "plot_box_compare_isspam_vertical('all', dfData, True)\r\n",
        "plot_box_compare_isspam_vertical('all', dfData, False)"
      ],
      "execution_count": 35,
      "outputs": [
        {
          "output_type": "display_data",
          "data": {
            "image/png": "[encoded data removed]",
            "text/plain": [
              "<Figure size 1800x360 with 1 Axes>"
            ]
          },
          "metadata": {
            "tags": [],
            "needs_background": "light"
          }
        },
        {
          "output_type": "display_data",
          "data": {
            "image/png": "[encoded data removed]",
            "text/plain": [
              "<Figure size 1800x360 with 1 Axes>"
            ]
          },
          "metadata": {
            "tags": [],
            "needs_background": "light"
          }
        }
      ]
    },
    {
      "cell_type": "code",
      "metadata": {
        "colab": {
          "base_uri": "https://localhost:8080/",
          "height": 173
        },
        "id": "GivdyfFZmWs2",
        "outputId": "ce0addfa-b0d3-4e04-96a1-3018f74177fb"
      },
      "source": [
        "# Affichage sous forme de tableau\r\n",
        "dfData[['wf_all', 'is_spam_label']].groupby('is_spam_label').describe()"
      ],
      "execution_count": 36,
      "outputs": [
        {
          "output_type": "execute_result",
          "data": {
            "text/html": [
              "<div>\n",
              "<style scoped>\n",
              "    .dataframe tbody tr th:only-of-type {\n",
              "        vertical-align: middle;\n",
              "    }\n",
              "\n",
              "    .dataframe tbody tr th {\n",
              "        vertical-align: top;\n",
              "    }\n",
              "\n",
              "    .dataframe thead tr th {\n",
              "        text-align: left;\n",
              "    }\n",
              "\n",
              "    .dataframe thead tr:last-of-type th {\n",
              "        text-align: right;\n",
              "    }\n",
              "</style>\n",
              "<table border=\"1\" class=\"dataframe\">\n",
              "  <thead>\n",
              "    <tr>\n",
              "      <th></th>\n",
              "      <th colspan=\"8\" halign=\"left\">wf_all</th>\n",
              "    </tr>\n",
              "    <tr>\n",
              "      <th></th>\n",
              "      <th>count</th>\n",
              "      <th>mean</th>\n",
              "      <th>std</th>\n",
              "      <th>min</th>\n",
              "      <th>25%</th>\n",
              "      <th>50%</th>\n",
              "      <th>75%</th>\n",
              "      <th>max</th>\n",
              "    </tr>\n",
              "    <tr>\n",
              "      <th>is_spam_label</th>\n",
              "      <th></th>\n",
              "      <th></th>\n",
              "      <th></th>\n",
              "      <th></th>\n",
              "      <th></th>\n",
              "      <th></th>\n",
              "      <th></th>\n",
              "      <th></th>\n",
              "    </tr>\n",
              "  </thead>\n",
              "  <tbody>\n",
              "    <tr>\n",
              "      <th>mail</th>\n",
              "      <td>2788.0</td>\n",
              "      <td>0.200581</td>\n",
              "      <td>0.502959</td>\n",
              "      <td>0.0</td>\n",
              "      <td>0.0</td>\n",
              "      <td>0.0</td>\n",
              "      <td>0.12</td>\n",
              "      <td>5.1</td>\n",
              "    </tr>\n",
              "    <tr>\n",
              "      <th>spam</th>\n",
              "      <td>1813.0</td>\n",
              "      <td>0.403795</td>\n",
              "      <td>0.480725</td>\n",
              "      <td>0.0</td>\n",
              "      <td>0.0</td>\n",
              "      <td>0.3</td>\n",
              "      <td>0.64</td>\n",
              "      <td>3.7</td>\n",
              "    </tr>\n",
              "  </tbody>\n",
              "</table>\n",
              "</div>"
            ],
            "text/plain": [
              "               wf_all                                              \n",
              "                count      mean       std  min  25%  50%   75%  max\n",
              "is_spam_label                                                      \n",
              "mail           2788.0  0.200581  0.502959  0.0  0.0  0.0  0.12  5.1\n",
              "spam           1813.0  0.403795  0.480725  0.0  0.0  0.3  0.64  3.7"
            ]
          },
          "metadata": {
            "tags": []
          },
          "execution_count": 36
        }
      ]
    },
    {
      "cell_type": "markdown",
      "metadata": {
        "id": "GoUw_ySrmYST"
      },
      "source": [
        "Encore une fois, la moyenne se révèle dangereuse pour la classe mail. Pour une moyenne de 0.2, seulement 75% des valeurs sont supérieures à 0.12. \r\n",
        "\r\n",
        "La moyenne des spams est beaucoup plus proche de sa médiane, respectivement 0.4 et 0.3. On peut donc en conclure que si la fréquence est supérieure à 0.64, il y a de fortes chances qu'on ait affaire à un spam. \r\n"
      ]
    },
    {
      "cell_type": "markdown",
      "metadata": {
        "id": "2MTvHmGFobOJ"
      },
      "source": [
        "### Conclusion"
      ]
    },
    {
      "cell_type": "markdown",
      "metadata": {
        "id": "vVhb5mj9oc1-"
      },
      "source": [
        "Les deux mots que nous allons retenir sont \"your\" et \"our\". "
      ]
    },
    {
      "cell_type": "markdown",
      "metadata": {
        "id": "9oNSgqOVpBCu"
      },
      "source": [
        "## Sélection finale des attributs significatifs"
      ]
    },
    {
      "cell_type": "markdown",
      "metadata": {
        "id": "nuC_HhWipG51"
      },
      "source": [
        "Pour résumer, les mots semblant avoir le plus d'impact sont, pour chaque catégorie:\r\n",
        "\r\n",
        "**Pour les mails:**\r\n",
        "- george\r\n",
        "- hp\r\n",
        "- hpl\r\n",
        "- edu\r\n",
        "- meeting\r\n",
        "\r\n",
        "**Pour les spams:**\r\n",
        "- free\r\n",
        "- your\r\n",
        "- our"
      ]
    },
    {
      "cell_type": "markdown",
      "metadata": {
        "id": "ys80Wtils4DZ"
      },
      "source": [
        "Nous allons maintenant regarder dans une matrice de corrélation si ces mots semblent être de bons indicateurs."
      ]
    },
    {
      "cell_type": "code",
      "metadata": {
        "colab": {
          "base_uri": "https://localhost:8080/",
          "height": 334
        },
        "id": "GQeNEN0tqjHC",
        "outputId": "b271560b-6db0-4c73-8b12-f893d8dee734"
      },
      "source": [
        "# Création de la matrice de corrélation\r\n",
        "correlation_matrix = dfData[['wf_george', 'wf_hp', 'wf_hpl', 'wf_edu', 'wf_meeting', 'wf_free', 'wf_your', 'wf_our', 'is_spam']].corr()\r\n",
        "sns.heatmap(correlation_matrix, cmap =\"mako\", square=True)"
      ],
      "execution_count": 37,
      "outputs": [
        {
          "output_type": "execute_result",
          "data": {
            "text/plain": [
              "<matplotlib.axes._subplots.AxesSubplot at 0x7f1d93377128>"
            ]
          },
          "metadata": {
            "tags": []
          },
          "execution_count": 37
        },
        {
          "output_type": "display_data",
          "data": {
            "image/png": "[encoded data removed]",
            "text/plain": [
              "<Figure size 432x288 with 2 Axes>"
            ]
          },
          "metadata": {
            "tags": [],
            "needs_background": "light"
          }
        }
      ]
    },
    {
      "cell_type": "code",
      "metadata": {
        "colab": {
          "base_uri": "https://localhost:8080/",
          "height": 334
        },
        "id": "GkEW7-mgrIHV",
        "outputId": "7f4006f2-c748-49de-cd7b-534a2852b850"
      },
      "source": [
        "# On va fixer un minimum, pour pouvoir mieux voir les valeurs négatives\r\n",
        "sns.heatmap(correlation_matrix, vmin=-1, vmax=1, cmap =\"mako\", square=True)"
      ],
      "execution_count": 38,
      "outputs": [
        {
          "output_type": "execute_result",
          "data": {
            "text/plain": [
              "<matplotlib.axes._subplots.AxesSubplot at 0x7f1d9388e160>"
            ]
          },
          "metadata": {
            "tags": []
          },
          "execution_count": 38
        },
        {
          "output_type": "display_data",
          "data": {
            "image/png": "[encoded data removed]",
            "text/plain": [
              "<Figure size 432x288 with 2 Axes>"
            ]
          },
          "metadata": {
            "tags": [],
            "needs_background": "light"
          }
        }
      ]
    },
    {
      "cell_type": "markdown",
      "metadata": {
        "id": "7yNboF1MtmGu"
      },
      "source": [
        "Nous avons donc déjà identifié de bons attributs, les plus efficaces semblant être le couple hp / hpl, et le mot you."
      ]
    },
    {
      "cell_type": "markdown",
      "metadata": {
        "id": "01-MDHdsoF4G"
      },
      "source": [
        "# Etudes de la fréquence des caractères"
      ]
    },
    {
      "cell_type": "markdown",
      "metadata": {
        "id": "w87zH_IhuC0s"
      },
      "source": [
        "Vu que nous n'avons que cinq colonnes touchant aux caractères, nous allons pouvoir tous les regarder en même temps. \r\n",
        "\r\n",
        "Comme pour les mots, on va commencer par l'étude de leurs moyennes."
      ]
    },
    {
      "cell_type": "code",
      "metadata": {
        "colab": {
          "base_uri": "https://localhost:8080/",
          "height": 331
        },
        "id": "EyB890LLoC3S",
        "outputId": "4332f6be-9b13-4eb3-8886-8159db79bebb"
      },
      "source": [
        "plot_bar_compare_isspam('Moyennes des fréquences des caractères en fonction de la classe du texte', df_means, char_frequency_columns)"
      ],
      "execution_count": 39,
      "outputs": [
        {
          "output_type": "display_data",
          "data": {
            "text/plain": [
              "<Figure size 1080x1440 with 0 Axes>"
            ]
          },
          "metadata": {
            "tags": []
          }
        },
        {
          "output_type": "display_data",
          "data": {
            "image/png": "[encoded data removed]",
            "text/plain": [
              "<Figure size 2016x360 with 1 Axes>"
            ]
          },
          "metadata": {
            "tags": [],
            "needs_background": "light"
          }
        }
      ]
    },
    {
      "cell_type": "markdown",
      "metadata": {
        "id": "FmwJdFZXuZ8i"
      },
      "source": [
        "On peut déjà observer que l'utilisation de point d'exclamation \"!\" semble être très utile pour détecter un spam, ainsi que l'utilisation du signe dollar \"$\". \r\n",
        "\r\n",
        "Regardons la matrice de corrélation:"
      ]
    },
    {
      "cell_type": "code",
      "metadata": {
        "colab": {
          "base_uri": "https://localhost:8080/",
          "height": 288
        },
        "id": "4xUnCgjIviWb",
        "outputId": "4d86edcc-ea8b-4f84-e45a-2a49c7420595"
      },
      "source": [
        "# Création de la matrice de corrélation\r\n",
        "correlation_matrix = dfData[['cf_(', 'cf_[', 'cf_!', 'cf_$', 'cf_#', 'is_spam']].corr()\r\n",
        "sns.heatmap(correlation_matrix, vmin=-1, vmax=1, cmap =\"mako\", square=True)"
      ],
      "execution_count": 40,
      "outputs": [
        {
          "output_type": "execute_result",
          "data": {
            "text/plain": [
              "<matplotlib.axes._subplots.AxesSubplot at 0x7f1d93363eb8>"
            ]
          },
          "metadata": {
            "tags": []
          },
          "execution_count": 40
        },
        {
          "output_type": "display_data",
          "data": {
            "image/png": "[encoded data removed]",
            "text/plain": [
              "<Figure size 432x288 with 2 Axes>"
            ]
          },
          "metadata": {
            "tags": [],
            "needs_background": "light"
          }
        }
      ]
    },
    {
      "cell_type": "markdown",
      "metadata": {
        "id": "3WksQ90sv0QT"
      },
      "source": [
        "Le signe du dollar semble être légèrement plus utile pour détecter un spam que le point d'exclamation, mais ils restent proches. \r\n",
        "\r\n",
        "Pour détecter un mail, on peut voir que la parenthèse peut être utile, suivi par le crochet \"[\". \r\n",
        "\r\n",
        "Le signe dièse quand à lui semble avoisiner autour des 0, nous le mettrons donc potentiellement de côté lors du modèle d'IA."
      ]
    },
    {
      "cell_type": "markdown",
      "metadata": {
        "id": "nKCvi-_pwh_5"
      },
      "source": [
        "Regardons de plus près les statistiques du signe parenthèse car avec sa moyenne, il ne semblait pas à première vue être un bon indicateur :"
      ]
    },
    {
      "cell_type": "code",
      "metadata": {
        "colab": {
          "base_uri": "https://localhost:8080/",
          "height": 295
        },
        "id": "Hd5s-6nTwt0W",
        "outputId": "3222dc02-7a9a-4d34-f18e-529dc26b7818"
      },
      "source": [
        "# Affichage de la boîte à moustache de la fréquence du caractère \"(\" sans les valeurs extérieures\r\n",
        "sns.boxplot(x='is_spam_label', y='cf_(', hue='is_spam_label',\r\n",
        "              data=dfData, palette=\"Set3\", showfliers = False)\r\n",
        "plt.ylabel('Fréquence')\r\n",
        "plt.xlabel('Signe \"(\"')\r\n",
        "plt.title('Boîte à moustache pour la fréquence du caractère  \"(\"')\r\n",
        "\r\n",
        "plt.show()"
      ],
      "execution_count": 41,
      "outputs": [
        {
          "output_type": "display_data",
          "data": {
            "image/png": "[encoded data removed]",
            "text/plain": [
              "<Figure size 432x288 with 1 Axes>"
            ]
          },
          "metadata": {
            "tags": [],
            "needs_background": "light"
          }
        }
      ]
    },
    {
      "cell_type": "code",
      "metadata": {
        "colab": {
          "base_uri": "https://localhost:8080/",
          "height": 173
        },
        "id": "HmOXGj-dxlSq",
        "outputId": "f4a253ee-bc89-4837-93fc-f5e5d26f4d06"
      },
      "source": [
        "# Affichage sous forme de tableau\r\n",
        "dfData[['cf_(', 'is_spam_label']].groupby('is_spam_label').describe()"
      ],
      "execution_count": 42,
      "outputs": [
        {
          "output_type": "execute_result",
          "data": {
            "text/html": [
              "<div>\n",
              "<style scoped>\n",
              "    .dataframe tbody tr th:only-of-type {\n",
              "        vertical-align: middle;\n",
              "    }\n",
              "\n",
              "    .dataframe tbody tr th {\n",
              "        vertical-align: top;\n",
              "    }\n",
              "\n",
              "    .dataframe thead tr th {\n",
              "        text-align: left;\n",
              "    }\n",
              "\n",
              "    .dataframe thead tr:last-of-type th {\n",
              "        text-align: right;\n",
              "    }\n",
              "</style>\n",
              "<table border=\"1\" class=\"dataframe\">\n",
              "  <thead>\n",
              "    <tr>\n",
              "      <th></th>\n",
              "      <th colspan=\"8\" halign=\"left\">cf_(</th>\n",
              "    </tr>\n",
              "    <tr>\n",
              "      <th></th>\n",
              "      <th>count</th>\n",
              "      <th>mean</th>\n",
              "      <th>std</th>\n",
              "      <th>min</th>\n",
              "      <th>25%</th>\n",
              "      <th>50%</th>\n",
              "      <th>75%</th>\n",
              "      <th>max</th>\n",
              "    </tr>\n",
              "    <tr>\n",
              "      <th>is_spam_label</th>\n",
              "      <th></th>\n",
              "      <th></th>\n",
              "      <th></th>\n",
              "      <th></th>\n",
              "      <th></th>\n",
              "      <th></th>\n",
              "      <th></th>\n",
              "      <th></th>\n",
              "    </tr>\n",
              "  </thead>\n",
              "  <tbody>\n",
              "    <tr>\n",
              "      <th>mail</th>\n",
              "      <td>2788.0</td>\n",
              "      <td>0.158578</td>\n",
              "      <td>0.260604</td>\n",
              "      <td>0.0</td>\n",
              "      <td>0.0</td>\n",
              "      <td>0.0645</td>\n",
              "      <td>0.222</td>\n",
              "      <td>5.277</td>\n",
              "    </tr>\n",
              "    <tr>\n",
              "      <th>spam</th>\n",
              "      <td>1813.0</td>\n",
              "      <td>0.108970</td>\n",
              "      <td>0.282141</td>\n",
              "      <td>0.0</td>\n",
              "      <td>0.0</td>\n",
              "      <td>0.0650</td>\n",
              "      <td>0.144</td>\n",
              "      <td>9.752</td>\n",
              "    </tr>\n",
              "  </tbody>\n",
              "</table>\n",
              "</div>"
            ],
            "text/plain": [
              "                 cf_(                                                    \n",
              "                count      mean       std  min  25%     50%    75%    max\n",
              "is_spam_label                                                            \n",
              "mail           2788.0  0.158578  0.260604  0.0  0.0  0.0645  0.222  5.277\n",
              "spam           1813.0  0.108970  0.282141  0.0  0.0  0.0650  0.144  9.752"
            ]
          },
          "metadata": {
            "tags": []
          },
          "execution_count": 42
        }
      ]
    },
    {
      "cell_type": "markdown",
      "metadata": {
        "id": "tGWUZmSXx6Nr"
      },
      "source": [
        "On peut voir que la médiane est sensiblement la même entre les deux classes. Cependant, une valeur supérieure à 0.222 a un peu plus de chance de provenir d'un mail que d'un spam. "
      ]
    },
    {
      "cell_type": "markdown",
      "metadata": {
        "id": "uM3J-zjNoviA"
      },
      "source": [
        "# Etudes des statistiques sur les capitales"
      ]
    },
    {
      "cell_type": "markdown",
      "metadata": {
        "id": "qvXNNMRRcFDs"
      },
      "source": [
        "Pour les capitales, nous avons trois attributs à étudier:\r\n",
        "\r\n",
        "- cap_rl_average: longueur moyenne des séquences ininterrompues de majuscules\r\n",
        "- cap_rl_longest: longueur de la plus longue séquence ininterrompue de lettres majuscules\r\n",
        "\r\n",
        "- cap_rl_total: nombre total de majuscules \r\n",
        "\r\n",
        "On va commencer par modifier notre précédente fonction permettant d'afficher des boîtes à moustache."
      ]
    },
    {
      "cell_type": "code",
      "metadata": {
        "id": "uDwaGSMcox8v"
      },
      "source": [
        "# Fonction d'affichage d'une boîte à moustache pour un mot donné du dataset\r\n",
        "def plot_box_compare_isspam_vertical(name, xlabel, df, showfliers):\r\n",
        "    plt.figure(figsize=(25,5))\r\n",
        "    sns.boxplot(x=name, y='is_spam_label', hue='is_spam_label',\r\n",
        "                 data=df, palette=\"Set3\", showfliers = showfliers)\r\n",
        "    plt.ylabel(name)\r\n",
        "    plt.xlabel(xlabel)\r\n",
        "    # Définition du titre\r\n",
        "    title = 'Boîte à moustache pour l\\'attribut \"' + name + '\"'\r\n",
        "    if (showfliers):\r\n",
        "      title += ' - avec valeurs extérieures'\r\n",
        "    else:\r\n",
        "      title += ' - sans valeurs extérieures'\r\n",
        "      \r\n",
        "    plt.title(title)\r\n"
      ],
      "execution_count": 47,
      "outputs": []
    },
    {
      "cell_type": "markdown",
      "metadata": {
        "id": "rfSTKixTeunW"
      },
      "source": [
        "## Etude de l'attribut cap_rl_average"
      ]
    },
    {
      "cell_type": "code",
      "metadata": {
        "colab": {
          "base_uri": "https://localhost:8080/",
          "height": 683
        },
        "id": "elDhRtENeX6m",
        "outputId": "b8b5a1eb-56ac-4e70-f409-6e8a376c9ee9"
      },
      "source": [
        "# Affichage des boîtes à moustache\r\n",
        "plot_box_compare_isspam_vertical('cap_rl_average', 'Longueur de la séquence', dfData, True)\r\n",
        "plot_box_compare_isspam_vertical('cap_rl_average', 'Longueur de la séquence', dfData, False)"
      ],
      "execution_count": 49,
      "outputs": [
        {
          "output_type": "display_data",
          "data": {
            "image/png": "[encoded data removed]",
            "text/plain": [
              "<Figure size 1800x360 with 1 Axes>"
            ]
          },
          "metadata": {
            "tags": [],
            "needs_background": "light"
          }
        },
        {
          "output_type": "display_data",
          "data": {
            "image/png": "[encoded data removed]",
            "text/plain": [
              "<Figure size 1800x360 with 1 Axes>"
            ]
          },
          "metadata": {
            "tags": [],
            "needs_background": "light"
          }
        }
      ]
    },
    {
      "cell_type": "code",
      "metadata": {
        "colab": {
          "base_uri": "https://localhost:8080/",
          "height": 173
        },
        "id": "q7MH_Qjje7-t",
        "outputId": "05d28e38-9896-4866-965b-5ae4a2c964b4"
      },
      "source": [
        "# Affichage sous forme de tableau\r\n",
        "dfData[['cap_rl_average', 'is_spam_label']].groupby('is_spam_label').describe()"
      ],
      "execution_count": 50,
      "outputs": [
        {
          "output_type": "execute_result",
          "data": {
            "text/html": [
              "<div>\n",
              "<style scoped>\n",
              "    .dataframe tbody tr th:only-of-type {\n",
              "        vertical-align: middle;\n",
              "    }\n",
              "\n",
              "    .dataframe tbody tr th {\n",
              "        vertical-align: top;\n",
              "    }\n",
              "\n",
              "    .dataframe thead tr th {\n",
              "        text-align: left;\n",
              "    }\n",
              "\n",
              "    .dataframe thead tr:last-of-type th {\n",
              "        text-align: right;\n",
              "    }\n",
              "</style>\n",
              "<table border=\"1\" class=\"dataframe\">\n",
              "  <thead>\n",
              "    <tr>\n",
              "      <th></th>\n",
              "      <th colspan=\"8\" halign=\"left\">cap_rl_average</th>\n",
              "    </tr>\n",
              "    <tr>\n",
              "      <th></th>\n",
              "      <th>count</th>\n",
              "      <th>mean</th>\n",
              "      <th>std</th>\n",
              "      <th>min</th>\n",
              "      <th>25%</th>\n",
              "      <th>50%</th>\n",
              "      <th>75%</th>\n",
              "      <th>max</th>\n",
              "    </tr>\n",
              "    <tr>\n",
              "      <th>is_spam_label</th>\n",
              "      <th></th>\n",
              "      <th></th>\n",
              "      <th></th>\n",
              "      <th></th>\n",
              "      <th></th>\n",
              "      <th></th>\n",
              "      <th></th>\n",
              "      <th></th>\n",
              "    </tr>\n",
              "  </thead>\n",
              "  <tbody>\n",
              "    <tr>\n",
              "      <th>mail</th>\n",
              "      <td>2788.0</td>\n",
              "      <td>2.377301</td>\n",
              "      <td>5.113685</td>\n",
              "      <td>1.0</td>\n",
              "      <td>1.384</td>\n",
              "      <td>1.857</td>\n",
              "      <td>2.555</td>\n",
              "      <td>251.0</td>\n",
              "    </tr>\n",
              "    <tr>\n",
              "      <th>spam</th>\n",
              "      <td>1813.0</td>\n",
              "      <td>9.519165</td>\n",
              "      <td>49.846186</td>\n",
              "      <td>1.0</td>\n",
              "      <td>2.324</td>\n",
              "      <td>3.621</td>\n",
              "      <td>5.708</td>\n",
              "      <td>1102.5</td>\n",
              "    </tr>\n",
              "  </tbody>\n",
              "</table>\n",
              "</div>"
            ],
            "text/plain": [
              "              cap_rl_average                       ...                      \n",
              "                       count      mean        std  ...    50%    75%     max\n",
              "is_spam_label                                      ...                      \n",
              "mail                  2788.0  2.377301   5.113685  ...  1.857  2.555   251.0\n",
              "spam                  1813.0  9.519165  49.846186  ...  3.621  5.708  1102.5\n",
              "\n",
              "[2 rows x 8 columns]"
            ]
          },
          "metadata": {
            "tags": []
          },
          "execution_count": 50
        }
      ]
    },
    {
      "cell_type": "markdown",
      "metadata": {
        "id": "nkltSzB5e06m"
      },
      "source": [
        "Attribut très intéréssant, on peut en conclure qu'on a beaucoup plus de chance de faire affaire à un spam lorsque la longueur moyenne est supérieure à 2.5.\r\n",
        "\r\n",
        "Cela n'est pas étonnant, dans le sens où l'emploi des majuscules apportent un effet d'urgence/de danger/d'occasion à ne pas manquer, que les spammeurs aiment employer."
      ]
    },
    {
      "cell_type": "markdown",
      "metadata": {
        "id": "-QCULoi0fnEx"
      },
      "source": [
        "## Etude de l'attribut cap_rl_longest"
      ]
    },
    {
      "cell_type": "code",
      "metadata": {
        "colab": {
          "base_uri": "https://localhost:8080/",
          "height": 683
        },
        "id": "t2wrahmmfw6Y",
        "outputId": "f1a04a42-37bd-4f5d-e71b-e2647bead821"
      },
      "source": [
        "# Affichage des boîtes à moustache\r\n",
        "plot_box_compare_isspam_vertical('cap_rl_longest', 'Longueur de la séquence', dfData, True)\r\n",
        "plot_box_compare_isspam_vertical('cap_rl_longest', 'Longueur de la séquence', dfData, False)"
      ],
      "execution_count": 51,
      "outputs": [
        {
          "output_type": "display_data",
          "data": {
            "image/png": "[encoded data removed]",
            "text/plain": [
              "<Figure size 1800x360 with 1 Axes>"
            ]
          },
          "metadata": {
            "tags": [],
            "needs_background": "light"
          }
        },
        {
          "output_type": "display_data",
          "data": {
            "image/png": "[encoded data removed]",
            "text/plain": [
              "<Figure size 1800x360 with 1 Axes>"
            ]
          },
          "metadata": {
            "tags": [],
            "needs_background": "light"
          }
        }
      ]
    },
    {
      "cell_type": "code",
      "metadata": {
        "colab": {
          "base_uri": "https://localhost:8080/",
          "height": 173
        },
        "id": "G8FrZgRIf121",
        "outputId": "973baa69-6fdd-4b7f-f7e4-1826754736b9"
      },
      "source": [
        "# Affichage sous forme de tableau\r\n",
        "dfData[['cap_rl_longest', 'is_spam_label']].groupby('is_spam_label').describe()"
      ],
      "execution_count": 52,
      "outputs": [
        {
          "output_type": "execute_result",
          "data": {
            "text/html": [
              "<div>\n",
              "<style scoped>\n",
              "    .dataframe tbody tr th:only-of-type {\n",
              "        vertical-align: middle;\n",
              "    }\n",
              "\n",
              "    .dataframe tbody tr th {\n",
              "        vertical-align: top;\n",
              "    }\n",
              "\n",
              "    .dataframe thead tr th {\n",
              "        text-align: left;\n",
              "    }\n",
              "\n",
              "    .dataframe thead tr:last-of-type th {\n",
              "        text-align: right;\n",
              "    }\n",
              "</style>\n",
              "<table border=\"1\" class=\"dataframe\">\n",
              "  <thead>\n",
              "    <tr>\n",
              "      <th></th>\n",
              "      <th colspan=\"8\" halign=\"left\">cap_rl_longest</th>\n",
              "    </tr>\n",
              "    <tr>\n",
              "      <th></th>\n",
              "      <th>count</th>\n",
              "      <th>mean</th>\n",
              "      <th>std</th>\n",
              "      <th>min</th>\n",
              "      <th>25%</th>\n",
              "      <th>50%</th>\n",
              "      <th>75%</th>\n",
              "      <th>max</th>\n",
              "    </tr>\n",
              "    <tr>\n",
              "      <th>is_spam_label</th>\n",
              "      <th></th>\n",
              "      <th></th>\n",
              "      <th></th>\n",
              "      <th></th>\n",
              "      <th></th>\n",
              "      <th></th>\n",
              "      <th></th>\n",
              "      <th></th>\n",
              "    </tr>\n",
              "  </thead>\n",
              "  <tbody>\n",
              "    <tr>\n",
              "      <th>mail</th>\n",
              "      <td>2788.0</td>\n",
              "      <td>18.214491</td>\n",
              "      <td>39.084792</td>\n",
              "      <td>1.0</td>\n",
              "      <td>4.0</td>\n",
              "      <td>10.0</td>\n",
              "      <td>18.0</td>\n",
              "      <td>1488.0</td>\n",
              "    </tr>\n",
              "    <tr>\n",
              "      <th>spam</th>\n",
              "      <td>1813.0</td>\n",
              "      <td>104.393271</td>\n",
              "      <td>299.284969</td>\n",
              "      <td>1.0</td>\n",
              "      <td>15.0</td>\n",
              "      <td>38.0</td>\n",
              "      <td>84.0</td>\n",
              "      <td>9989.0</td>\n",
              "    </tr>\n",
              "  </tbody>\n",
              "</table>\n",
              "</div>"
            ],
            "text/plain": [
              "              cap_rl_longest                          ...                    \n",
              "                       count        mean         std  ...   50%   75%     max\n",
              "is_spam_label                                         ...                    \n",
              "mail                  2788.0   18.214491   39.084792  ...  10.0  18.0  1488.0\n",
              "spam                  1813.0  104.393271  299.284969  ...  38.0  84.0  9989.0\n",
              "\n",
              "[2 rows x 8 columns]"
            ]
          },
          "metadata": {
            "tags": []
          },
          "execution_count": 52
        }
      ]
    },
    {
      "cell_type": "markdown",
      "metadata": {
        "id": "L_RUKxZEf3vv"
      },
      "source": [
        "Rien de surprenant par rapport à ce que l'on a appris avec l'étude de l'attribut précédent \"cap_rl_average\". \r\n",
        "\r\n",
        "Cependant, je ne m'attendais pas au 3éme quartile de la classe mail d'être aussi haut que 18. De ce que j'ai pu trouver sur internet, la taille moyenne d'un mot anglais tourne aux alentours de 4.7 à 5 caractères. Donc on aurait plus de 15% des mails qui emploieraient en moyenne 3 à 4 mots en majuscules d'affilée. \r\n",
        "\r\n",
        "Cela n'est tout de même pas grand chose par rapport à la classe spam, qui a plus de 50% de ses textes contenant une séquence de majuscule ininterrompue de 38 caractères, soit environ 7.6 mots d'affilée (38/5)."
      ]
    },
    {
      "cell_type": "markdown",
      "metadata": {
        "id": "CXfy1v2BfrZG"
      },
      "source": [
        "## Etude de l'attribut cap_rl_total"
      ]
    },
    {
      "cell_type": "code",
      "metadata": {
        "colab": {
          "base_uri": "https://localhost:8080/",
          "height": 683
        },
        "id": "YckKBvVzf4_M",
        "outputId": "36d52e7b-180a-4fe1-daad-a8e92c7d3433"
      },
      "source": [
        "# Affichage des boîtes à moustache\r\n",
        "plot_box_compare_isspam_vertical('cap_rl_total', 'Nombre de majuscules', dfData, True)\r\n",
        "plot_box_compare_isspam_vertical('cap_rl_total', 'Nombre de majuscules', dfData, False)"
      ],
      "execution_count": 55,
      "outputs": [
        {
          "output_type": "display_data",
          "data": {
            "image/png": "[encoded data removed]",
            "text/plain": [
              "<Figure size 1800x360 with 1 Axes>"
            ]
          },
          "metadata": {
            "tags": [],
            "needs_background": "light"
          }
        },
        {
          "output_type": "display_data",
          "data": {
            "image/png": "[encoded data removed]",
            "text/plain": [
              "<Figure size 1800x360 with 1 Axes>"
            ]
          },
          "metadata": {
            "tags": [],
            "needs_background": "light"
          }
        }
      ]
    },
    {
      "cell_type": "code",
      "metadata": {
        "colab": {
          "base_uri": "https://localhost:8080/",
          "height": 173
        },
        "id": "CEBqU8Zif71J",
        "outputId": "9d3a55f0-ba02-42c2-ed61-069ee1963738"
      },
      "source": [
        "# Affichage sous forme de tableau\r\n",
        "dfData[['cap_rl_total', 'is_spam_label']].groupby('is_spam_label').describe()"
      ],
      "execution_count": 54,
      "outputs": [
        {
          "output_type": "execute_result",
          "data": {
            "text/html": [
              "<div>\n",
              "<style scoped>\n",
              "    .dataframe tbody tr th:only-of-type {\n",
              "        vertical-align: middle;\n",
              "    }\n",
              "\n",
              "    .dataframe tbody tr th {\n",
              "        vertical-align: top;\n",
              "    }\n",
              "\n",
              "    .dataframe thead tr th {\n",
              "        text-align: left;\n",
              "    }\n",
              "\n",
              "    .dataframe thead tr:last-of-type th {\n",
              "        text-align: right;\n",
              "    }\n",
              "</style>\n",
              "<table border=\"1\" class=\"dataframe\">\n",
              "  <thead>\n",
              "    <tr>\n",
              "      <th></th>\n",
              "      <th colspan=\"8\" halign=\"left\">cap_rl_total</th>\n",
              "    </tr>\n",
              "    <tr>\n",
              "      <th></th>\n",
              "      <th>count</th>\n",
              "      <th>mean</th>\n",
              "      <th>std</th>\n",
              "      <th>min</th>\n",
              "      <th>25%</th>\n",
              "      <th>50%</th>\n",
              "      <th>75%</th>\n",
              "      <th>max</th>\n",
              "    </tr>\n",
              "    <tr>\n",
              "      <th>is_spam_label</th>\n",
              "      <th></th>\n",
              "      <th></th>\n",
              "      <th></th>\n",
              "      <th></th>\n",
              "      <th></th>\n",
              "      <th></th>\n",
              "      <th></th>\n",
              "      <th></th>\n",
              "    </tr>\n",
              "  </thead>\n",
              "  <tbody>\n",
              "    <tr>\n",
              "      <th>mail</th>\n",
              "      <td>2788.0</td>\n",
              "      <td>161.470947</td>\n",
              "      <td>355.738403</td>\n",
              "      <td>1.0</td>\n",
              "      <td>18.75</td>\n",
              "      <td>54.0</td>\n",
              "      <td>141.0</td>\n",
              "      <td>5902.0</td>\n",
              "    </tr>\n",
              "    <tr>\n",
              "      <th>spam</th>\n",
              "      <td>1813.0</td>\n",
              "      <td>470.619415</td>\n",
              "      <td>825.081179</td>\n",
              "      <td>2.0</td>\n",
              "      <td>93.00</td>\n",
              "      <td>194.0</td>\n",
              "      <td>530.0</td>\n",
              "      <td>15841.0</td>\n",
              "    </tr>\n",
              "  </tbody>\n",
              "</table>\n",
              "</div>"
            ],
            "text/plain": [
              "              cap_rl_total                          ...                       \n",
              "                     count        mean         std  ...    50%    75%      max\n",
              "is_spam_label                                       ...                       \n",
              "mail                2788.0  161.470947  355.738403  ...   54.0  141.0   5902.0\n",
              "spam                1813.0  470.619415  825.081179  ...  194.0  530.0  15841.0\n",
              "\n",
              "[2 rows x 8 columns]"
            ]
          },
          "metadata": {
            "tags": []
          },
          "execution_count": 54
        }
      ]
    },
    {
      "cell_type": "markdown",
      "metadata": {
        "id": "DNRf6uM9f9q5"
      },
      "source": [
        "Il est vraiment dommage de ne pas avoir de moyen d'accèder à la taille totale des textes ici, et pourquoi pas le nombre de phrase au total dans le texte.\r\n",
        "\r\n",
        "En effet, on peut voir que dans plus de 50% des cas pour les mails, on se retrouverait avec 54 majuscules au total. Il ne faut pas oublier que dans un mail normal, les phrases commencent par une majuscule, ainsi que les noms propres et certaines abréviations (comme ASAP par exemple). Mais 54 majuscules me semble tout de même être un chiffre élevé. Et c'est encore plus impressionnant de se dire que 15% de ces mails ont plus de 141 majuscules. \r\n",
        "\r\n",
        "Mis à part cela, comme les deux précédents attributs, on voit bien que la classe spam se démarque de la classe mail par son grand nombre.\r\n",
        "\r\n"
      ]
    },
    {
      "cell_type": "markdown",
      "metadata": {
        "id": "G3CYULvd3-xB"
      },
      "source": [
        "# Etude ML\r\n"
      ]
    },
    {
      "cell_type": "markdown",
      "metadata": {
        "id": "BT74lAkAls9o"
      },
      "source": [
        "Après recherche, les meilleurs modèles utilisés pour les filtres anti-spam s'avèrent être de la famille de la classification naïve bayésienne (NB).\r\n",
        "Ainsi, nous nous contenterons de tester trois types de modèle NB:\r\n",
        "- BernouilliNB\r\n",
        "- GaussianNB\r\n",
        "- MultinomialNB\r\n",
        "\r\n"
      ]
    },
    {
      "cell_type": "code",
      "metadata": {
        "id": "xVDjVqjG4BWt"
      },
      "source": [
        "import sklearn\r\n",
        "# FONCTIONS\r\n",
        "from sklearn.model_selection import train_test_split\r\n",
        "# MODELES\r\n",
        "from sklearn.naive_bayes import GaussianNB\r\n",
        "from sklearn.naive_bayes import BernoulliNB\r\n",
        "from sklearn.naive_bayes import MultinomialNB\r\n",
        "# METRIQUES\r\n",
        "from sklearn.metrics import accuracy_score\r\n",
        "from sklearn.metrics import classification_report\r\n",
        "from sklearn.metrics import confusion_matrix, ConfusionMatrixDisplay"
      ],
      "execution_count": 132,
      "outputs": []
    },
    {
      "cell_type": "markdown",
      "metadata": {
        "id": "9DC-yZT9mghZ"
      },
      "source": [
        "## Préparation des données"
      ]
    },
    {
      "cell_type": "code",
      "metadata": {
        "id": "DpHBITgO4Hg9"
      },
      "source": [
        "# Organisation des données\r\n",
        "label_names = ['mail', 'spam']\r\n",
        "labels = dfData['is_spam']\r\n",
        "feature_names = columnsName\r\n",
        "# On ne prend pas la dernière colonne de label\r\n",
        "features = np.asarray(dfData[feature_names].values)"
      ],
      "execution_count": 68,
      "outputs": []
    },
    {
      "cell_type": "code",
      "metadata": {
        "id": "tFMaHIzY47Wq"
      },
      "source": [
        "# Partage des données entre le dataset de train et de test\r\n",
        "train, test, train_labels, test_labels = train_test_split(features,\r\n",
        "                                                         labels,\r\n",
        "                                                         test_size=0.4,\r\n",
        "                                                         random_state=0)"
      ],
      "execution_count": 131,
      "outputs": []
    },
    {
      "cell_type": "markdown",
      "metadata": {
        "id": "NzsCLd2OuCUP"
      },
      "source": [
        "Afin de comparer nos modèles, nous allons créer une fonction permettant de les entraîner et d'afficher les résultats."
      ]
    },
    {
      "cell_type": "code",
      "metadata": {
        "id": "tJBI0qlZs09q"
      },
      "source": [
        "# Permet de sélectionner un modèle de NB, l'entraîner et afficher ses résultats\r\n",
        "# Renvoie la précision et le nombre de valeurs non identifiées correctement\r\n",
        "def create_and_evaluate_model(name, train, train_labels, test, test_labels, label_names):\r\n",
        "  # Selection du modèle\r\n",
        "  classifier = GaussianNB()\r\n",
        "  if (name == 'bnb'):\r\n",
        "    classifier = BernoulliNB()\r\n",
        "  if (name == 'mnb'):\r\n",
        "    classifier = MultinomialNB()\r\n",
        "\r\n",
        "  # Entraînement\r\n",
        "  model = classifier.fit(train, train_labels)\r\n",
        "\r\n",
        "  # Prédictions\r\n",
        "  preds = classifier.predict(test)\r\n",
        "  \r\n",
        "  # Affichage des résultats\r\n",
        "  print(\"Précision du modèle: \" + str(accuracy_score(test_labels, preds)))\r\n",
        "\r\n",
        "  print(\"Nombre de mails non identifiés correctement sur un total de %d mails : %d\" % (test.shape[0], (test_labels != preds).sum()))\r\n",
        "\r\n",
        "  print(classification_report(test_labels, preds, target_names=label_names))\r\n",
        "\r\n",
        "  # Matrice de confusion\r\n",
        "  cm = confusion_matrix(test_labels, preds)\r\n",
        "  ConfusionMatrixDisplay(cm).plot(cmap=\"mako\")\r\n",
        "\r\n",
        "  return [accuracy_score(test_labels, preds), (test_labels != preds).sum()]\r\n"
      ],
      "execution_count": 107,
      "outputs": []
    },
    {
      "cell_type": "markdown",
      "metadata": {
        "id": "FQcb1kocAiy7"
      },
      "source": [
        "## Modèle GaussianNB"
      ]
    },
    {
      "cell_type": "code",
      "metadata": {
        "colab": {
          "base_uri": "https://localhost:8080/",
          "height": 466
        },
        "id": "ofZtrRiEt0WP",
        "outputId": "51075f88-7925-41c9-bb99-7ae85a5cee3f"
      },
      "source": [
        "gnb_accuracy, gnb_wrong_labeled = create_and_evaluate_model('gnb', train, train_labels, test, test_labels, label_names)"
      ],
      "execution_count": 110,
      "outputs": [
        {
          "output_type": "stream",
          "text": [
            "Précision du modèle: 0.9989136338946225\n",
            "Nombre de mails non identifiés correctement sur un total de 1841 mails : 2\n",
            "              precision    recall  f1-score   support\n",
            "\n",
            "        mail       1.00      1.00      1.00      1097\n",
            "        spam       1.00      1.00      1.00       744\n",
            "\n",
            "    accuracy                           1.00      1841\n",
            "   macro avg       1.00      1.00      1.00      1841\n",
            "weighted avg       1.00      1.00      1.00      1841\n",
            "\n"
          ],
          "name": "stdout"
        },
        {
          "output_type": "display_data",
          "data": {
            "image/png": "[encoded data removed]",
            "text/plain": [
              "<Figure size 432x288 with 2 Axes>"
            ]
          },
          "metadata": {
            "tags": [],
            "needs_background": "light"
          }
        }
      ]
    },
    {
      "cell_type": "markdown",
      "metadata": {
        "id": "MSSDu7uKqNEL"
      },
      "source": [
        "Le résultat est excellent: 99,89% de précision ! De plus, il est préférable pour notre filtre d'avoir des faux positifs que l'inverse. En effet, si un spam ou deux sont identifiés comme mails, c'est désagréable pour l'utilisateur, mais cela s'arrête là. \r\n",
        "\r\n",
        "Tandis que si l'on classe un mail en tant que spam, c'est beaucoup plus problématique pour l'utilisateur, vu que ce mail sera directement placé dans la corbeille, sans notifier l'utilisateur.\r\n",
        "\r\n",
        "Pour l'instant, ce modèle est en top position !"
      ]
    },
    {
      "cell_type": "markdown",
      "metadata": {
        "id": "miDXwAAOmtI6"
      },
      "source": [
        "## Modèle BernouilliNB"
      ]
    },
    {
      "cell_type": "code",
      "metadata": {
        "colab": {
          "base_uri": "https://localhost:8080/",
          "height": 466
        },
        "id": "lfodghVem7Di",
        "outputId": "38ab611b-58a1-4300-efdd-e296966e3bfa"
      },
      "source": [
        "bnb_accuracy, bnb_wrong_labeled = create_and_evaluate_model('bnb', train, train_labels, test, test_labels, label_names)"
      ],
      "execution_count": 111,
      "outputs": [
        {
          "output_type": "stream",
          "text": [
            "Précision du modèle: 0.9755567626290059\n",
            "Nombre de mails non identifiés correctement sur un total de 1841 mails : 45\n",
            "              precision    recall  f1-score   support\n",
            "\n",
            "        mail       0.97      0.99      0.98      1097\n",
            "        spam       0.99      0.95      0.97       744\n",
            "\n",
            "    accuracy                           0.98      1841\n",
            "   macro avg       0.98      0.97      0.97      1841\n",
            "weighted avg       0.98      0.98      0.98      1841\n",
            "\n"
          ],
          "name": "stdout"
        },
        {
          "output_type": "display_data",
          "data": {
            "image/png": "[encoded data removed]",
            "text/plain": [
              "<Figure size 432x288 with 2 Axes>"
            ]
          },
          "metadata": {
            "tags": [],
            "needs_background": "light"
          }
        }
      ]
    },
    {
      "cell_type": "markdown",
      "metadata": {
        "id": "lKmJkTtEvNpI"
      },
      "source": [
        "La précision est déjà moins bonne que pour le modèle Gaussien. De plus, en plus d'avoir 35 spams identifiés comme mails, on a surtout 10 mails identifiés comme spams !\r\n",
        "\r\n",
        "Le modèle Gaussien reste en tête."
      ]
    },
    {
      "cell_type": "markdown",
      "metadata": {
        "id": "KxX5IAcZrzEh"
      },
      "source": [
        "## Modèle MultinomialNB"
      ]
    },
    {
      "cell_type": "code",
      "metadata": {
        "colab": {
          "base_uri": "https://localhost:8080/",
          "height": 466
        },
        "id": "OSNaTAlwr9fF",
        "outputId": "88adcedb-34bd-46d2-e7f3-089ed3b87ec4"
      },
      "source": [
        "mnb_accuracy, mnb_wrong_labeled = create_and_evaluate_model('mnb', train, train_labels, test, test_labels, label_names)"
      ],
      "execution_count": 112,
      "outputs": [
        {
          "output_type": "stream",
          "text": [
            "Précision du modèle: 0.872895165670831\n",
            "Nombre de mails non identifiés correctement sur un total de 1841 mails : 234\n",
            "              precision    recall  f1-score   support\n",
            "\n",
            "        mail       0.91      0.87      0.89      1097\n",
            "        spam       0.82      0.88      0.85       744\n",
            "\n",
            "    accuracy                           0.87      1841\n",
            "   macro avg       0.87      0.87      0.87      1841\n",
            "weighted avg       0.88      0.87      0.87      1841\n",
            "\n"
          ],
          "name": "stdout"
        },
        {
          "output_type": "display_data",
          "data": {
            "image/png": "[encoded data removed]",
            "text/plain": [
              "<Figure size 432x288 with 2 Axes>"
            ]
          },
          "metadata": {
            "tags": [],
            "needs_background": "light"
          }
        }
      ]
    },
    {
      "cell_type": "markdown",
      "metadata": {
        "id": "BY5VBbcivUWX"
      },
      "source": [
        "Par rapport aux deux modèles précédents, la précision chute de 10%. \r\n",
        "\r\n",
        "Et pour finir, on a beaucoup plus de mails identifiés comme spams que l'inverse. Ce modèle est à proscrire."
      ]
    },
    {
      "cell_type": "markdown",
      "metadata": {
        "id": "kfAQJLkIv6UH"
      },
      "source": [
        "## Comparaison des modèles"
      ]
    },
    {
      "cell_type": "markdown",
      "metadata": {
        "id": "1EKNKICmv77J"
      },
      "source": [
        "Après les avoir regardé individuellement, on va comparer les performances entre eux."
      ]
    },
    {
      "cell_type": "code",
      "metadata": {
        "colab": {
          "base_uri": "https://localhost:8080/",
          "height": 284
        },
        "id": "30-g0J96xIA-",
        "outputId": "be79698f-2495-4d40-ca15-378364b9f324"
      },
      "source": [
        "sns.set_theme(style=\"whitegrid\")\r\n",
        "# Affichage de la précision de chaque modèle\r\n",
        "ax = sns.barplot(y=[gnb_accuracy, bnb_accuracy, mnb_accuracy], x=['GaussianNB', 'BernouilliNB', 'MultinomialNB']).set_title('Comparaison des précisions de chaque modèle')"
      ],
      "execution_count": 126,
      "outputs": [
        {
          "output_type": "display_data",
          "data": {
            "image/png": "[encoded data removed]",
            "text/plain": [
              "<Figure size 432x288 with 1 Axes>"
            ]
          },
          "metadata": {
            "tags": []
          }
        }
      ]
    },
    {
      "cell_type": "code",
      "metadata": {
        "colab": {
          "base_uri": "https://localhost:8080/",
          "height": 284
        },
        "id": "tmRrgTwzxrms",
        "outputId": "b7690e9a-1c40-49e1-8f36-4fc8e5430af2"
      },
      "source": [
        "# Affichage du nombre de valeurs incorrectement identifiées\r\n",
        "ax = sns.barplot(y=[gnb_wrong_labeled, bnb_wrong_labeled, mnb_wrong_labeled], x=['GaussianNB', 'BernouilliNB', 'MultinomialNB']).set_title('Comparaison du nombre de valeurs non identifiées correctement de chaque modèle')\r\n"
      ],
      "execution_count": 128,
      "outputs": [
        {
          "output_type": "display_data",
          "data": {
            "image/png": "[encoded data removed]",
            "text/plain": [
              "<Figure size 432x288 with 1 Axes>"
            ]
          },
          "metadata": {
            "tags": []
          }
        }
      ]
    },
    {
      "cell_type": "markdown",
      "metadata": {
        "id": "5bUCa7fWyqJn"
      },
      "source": [
        "Il n'y a pas photo: le modèle Gaussien remporte haut la main la manche."
      ]
    },
    {
      "cell_type": "markdown",
      "metadata": {
        "id": "AhVHsFNoldvP"
      },
      "source": [
        "# Exportation du modèle"
      ]
    },
    {
      "cell_type": "code",
      "metadata": {
        "colab": {
          "base_uri": "https://localhost:8080/"
        },
        "id": "PYN4rx1klMSL",
        "outputId": "3470e278-42be-482c-d793-6a1d71f579d5"
      },
      "source": [
        "from joblib import dump, load\r\n",
        "\r\n",
        "model = gnb.fit(train, train_labels)\r\n",
        "\r\n",
        "dump(model, 'model_saved.joblib')"
      ],
      "execution_count": 64,
      "outputs": [
        {
          "output_type": "execute_result",
          "data": {
            "text/plain": [
              "['model_saved.joblib']"
            ]
          },
          "metadata": {
            "tags": []
          },
          "execution_count": 64
        }
      ]
    }
  ]
}